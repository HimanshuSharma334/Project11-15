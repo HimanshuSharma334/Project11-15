{
 "cells": [
  {
   "cell_type": "markdown",
   "metadata": {},
   "source": [
    "# Predicting Restaurant Food Cost \n",
    "\n",
    "\n",
    "Who doesn’t love food? All of us must have craving for at least a few favourite food items, we may also have a few places where we like to get them, a restaurant which serves our favourite food the way we want it to be. But there is one factor that will make us reconsider having our favourite food from our favourite restaurant, the cost. Here in this hackathon, you will be predicting the cost of the food served by the restaurants across different cities in India. You will use your Data Science skills to investigate the factors that really affect the cost, and who knows maybe you will even gain some very interesting insights that might help you choose what to eat and from where.\n",
    "\n",
    "Size of training set: 12,690 records\n",
    "\n",
    "Size of test set: 4,231 records\n",
    "\n",
    "\n",
    "\n",
    "Size of training set: 12,690 records\n",
    "\n",
    "Size of test set: 4,231 records\n",
    "\n",
    "FEATURES:\n",
    "TITLE: The feature of the restaurant which can help identify what and for whom it is suitable for.\n",
    "\n",
    "RESTAURANT_ID: A unique ID for each restaurant.\n",
    "\n",
    "CUISINES: The variety of cuisines that the restaurant offers.\n",
    "\n",
    "TIME: The open hours of the restaurant.\n",
    "\n",
    "CITY: The city in which the restaurant is located.\n",
    "\n",
    "LOCALITY: The locality of the restaurant.\n",
    "\n",
    "RATING: The average rating of the restaurant by customers.\n",
    "\n",
    "VOTES: The overall votes received by the restaurant.\n",
    "\n",
    "COST: The average cost of a two-person meal.\n",
    "\n",
    "\n",
    "\n",
    "https://github.com/dsrscientist/Data-Science-ML-Capstone-Projects"
   ]
  },
  {
   "cell_type": "code",
   "execution_count": 1,
   "metadata": {},
   "outputs": [],
   "source": [
    "import pandas as pd\n",
    "import numpy as np\n",
    "import matplotlib.pyplot as plt\n",
    "import seaborn as sns\n",
    "import warnings\n",
    "warnings.filterwarnings('ignore')"
   ]
  },
  {
   "cell_type": "code",
   "execution_count": 2,
   "metadata": {},
   "outputs": [],
   "source": [
    "train = pd.read_excel('Data_Train.xlsx')\n",
    "test = pd.read_excel('Data_Test.xlsx')"
   ]
  },
  {
   "cell_type": "code",
   "execution_count": 3,
   "metadata": {},
   "outputs": [
    {
     "data": {
      "text/html": [
       "<div>\n",
       "<style scoped>\n",
       "    .dataframe tbody tr th:only-of-type {\n",
       "        vertical-align: middle;\n",
       "    }\n",
       "\n",
       "    .dataframe tbody tr th {\n",
       "        vertical-align: top;\n",
       "    }\n",
       "\n",
       "    .dataframe thead th {\n",
       "        text-align: right;\n",
       "    }\n",
       "</style>\n",
       "<table border=\"1\" class=\"dataframe\">\n",
       "  <thead>\n",
       "    <tr style=\"text-align: right;\">\n",
       "      <th></th>\n",
       "      <th>TITLE</th>\n",
       "      <th>RESTAURANT_ID</th>\n",
       "      <th>CUISINES</th>\n",
       "      <th>TIME</th>\n",
       "      <th>CITY</th>\n",
       "      <th>LOCALITY</th>\n",
       "      <th>RATING</th>\n",
       "      <th>VOTES</th>\n",
       "      <th>COST</th>\n",
       "    </tr>\n",
       "  </thead>\n",
       "  <tbody>\n",
       "    <tr>\n",
       "      <th>0</th>\n",
       "      <td>CASUAL DINING</td>\n",
       "      <td>9438</td>\n",
       "      <td>Malwani, Goan, North Indian</td>\n",
       "      <td>11am – 4pm, 7:30pm – 11:30pm (Mon-Sun)</td>\n",
       "      <td>Thane</td>\n",
       "      <td>Dombivali East</td>\n",
       "      <td>3.6</td>\n",
       "      <td>49 votes</td>\n",
       "      <td>1200</td>\n",
       "    </tr>\n",
       "    <tr>\n",
       "      <th>1</th>\n",
       "      <td>CASUAL DINING,BAR</td>\n",
       "      <td>13198</td>\n",
       "      <td>Asian, Modern Indian, Japanese</td>\n",
       "      <td>6pm – 11pm (Mon-Sun)</td>\n",
       "      <td>Chennai</td>\n",
       "      <td>Ramapuram</td>\n",
       "      <td>4.2</td>\n",
       "      <td>30 votes</td>\n",
       "      <td>1500</td>\n",
       "    </tr>\n",
       "    <tr>\n",
       "      <th>2</th>\n",
       "      <td>CASUAL DINING</td>\n",
       "      <td>10915</td>\n",
       "      <td>North Indian, Chinese, Biryani, Hyderabadi</td>\n",
       "      <td>11am – 3:30pm, 7pm – 11pm (Mon-Sun)</td>\n",
       "      <td>Chennai</td>\n",
       "      <td>Saligramam</td>\n",
       "      <td>3.8</td>\n",
       "      <td>221 votes</td>\n",
       "      <td>800</td>\n",
       "    </tr>\n",
       "    <tr>\n",
       "      <th>3</th>\n",
       "      <td>QUICK BITES</td>\n",
       "      <td>6346</td>\n",
       "      <td>Tibetan, Chinese</td>\n",
       "      <td>11:30am – 1am (Mon-Sun)</td>\n",
       "      <td>Mumbai</td>\n",
       "      <td>Bandra West</td>\n",
       "      <td>4.1</td>\n",
       "      <td>24 votes</td>\n",
       "      <td>800</td>\n",
       "    </tr>\n",
       "    <tr>\n",
       "      <th>4</th>\n",
       "      <td>DESSERT PARLOR</td>\n",
       "      <td>15387</td>\n",
       "      <td>Desserts</td>\n",
       "      <td>11am – 1am (Mon-Sun)</td>\n",
       "      <td>Mumbai</td>\n",
       "      <td>Lower Parel</td>\n",
       "      <td>3.8</td>\n",
       "      <td>165 votes</td>\n",
       "      <td>300</td>\n",
       "    </tr>\n",
       "    <tr>\n",
       "      <th>5</th>\n",
       "      <td>CASUAL DINING</td>\n",
       "      <td>5618</td>\n",
       "      <td>North Indian, Chinese, Seafood, Biryani</td>\n",
       "      <td>12noon – 12:30AM (Mon-Sun)</td>\n",
       "      <td>Mumbai</td>\n",
       "      <td>Vile Parle West</td>\n",
       "      <td>4.0</td>\n",
       "      <td>550 votes</td>\n",
       "      <td>800</td>\n",
       "    </tr>\n",
       "    <tr>\n",
       "      <th>6</th>\n",
       "      <td>CAFÉ</td>\n",
       "      <td>4383</td>\n",
       "      <td>Cafe, Chinese, Pizza, North Indian, Burger</td>\n",
       "      <td>12noon – 11:30pm (Mon, Tue, Thu, Fri, Sat, Sun...</td>\n",
       "      <td>Bangalore</td>\n",
       "      <td>Koramangala 6th Block</td>\n",
       "      <td>4.1</td>\n",
       "      <td>509 votes</td>\n",
       "      <td>600</td>\n",
       "    </tr>\n",
       "    <tr>\n",
       "      <th>7</th>\n",
       "      <td>MICROBREWERY</td>\n",
       "      <td>1249</td>\n",
       "      <td>Bar Food</td>\n",
       "      <td>1pm – 1am (Mon-Sun)</td>\n",
       "      <td>Gurgaon</td>\n",
       "      <td>Sector 29</td>\n",
       "      <td>4.3</td>\n",
       "      <td>1612 votes</td>\n",
       "      <td>1600</td>\n",
       "    </tr>\n",
       "    <tr>\n",
       "      <th>8</th>\n",
       "      <td>QUICK BITES</td>\n",
       "      <td>7062</td>\n",
       "      <td>South Indian, North Indian</td>\n",
       "      <td>7am – 10:30pm (Mon-Sun)</td>\n",
       "      <td>Bangalore</td>\n",
       "      <td>Bannerghatta Road</td>\n",
       "      <td>3.9</td>\n",
       "      <td>101 votes</td>\n",
       "      <td>300</td>\n",
       "    </tr>\n",
       "    <tr>\n",
       "      <th>9</th>\n",
       "      <td>QUICK BITES</td>\n",
       "      <td>10109</td>\n",
       "      <td>North Indian</td>\n",
       "      <td>11am – 2pm, 4pm – 10:30pm (Mon-Sun)</td>\n",
       "      <td>Hyderabad</td>\n",
       "      <td>Dilsukhnagar</td>\n",
       "      <td>3.3</td>\n",
       "      <td>219 votes</td>\n",
       "      <td>200</td>\n",
       "    </tr>\n",
       "    <tr>\n",
       "      <th>10</th>\n",
       "      <td>CASUAL DINING</td>\n",
       "      <td>38</td>\n",
       "      <td>North Indian, Chinese, Fast Food, Biryani</td>\n",
       "      <td>12:30pm – 12:30AM (Mon-Sun)</td>\n",
       "      <td>Bangalore</td>\n",
       "      <td>Koramangala 5th Block</td>\n",
       "      <td>4.1</td>\n",
       "      <td>244 votes</td>\n",
       "      <td>900</td>\n",
       "    </tr>\n",
       "    <tr>\n",
       "      <th>11</th>\n",
       "      <td>QUICK BITES,BEVERAGE SHOP</td>\n",
       "      <td>844</td>\n",
       "      <td>Fast Food, Burger, Beverages</td>\n",
       "      <td>11am – 12:15AM (Mon, Tue, Wed, Thu, Fri, Sun)...</td>\n",
       "      <td>Bangalore</td>\n",
       "      <td>Indiranagar</td>\n",
       "      <td>4.0</td>\n",
       "      <td>274 votes</td>\n",
       "      <td>800</td>\n",
       "    </tr>\n",
       "    <tr>\n",
       "      <th>12</th>\n",
       "      <td>CASUAL DINING</td>\n",
       "      <td>938</td>\n",
       "      <td>Arabian, Mughlai</td>\n",
       "      <td>11am – 11pm (Mon-Sun)</td>\n",
       "      <td>Kochi</td>\n",
       "      <td>Chullickal</td>\n",
       "      <td>3.4</td>\n",
       "      <td>15 votes</td>\n",
       "      <td>600</td>\n",
       "    </tr>\n",
       "    <tr>\n",
       "      <th>13</th>\n",
       "      <td>CASUAL DINING</td>\n",
       "      <td>4319</td>\n",
       "      <td>South Indian</td>\n",
       "      <td>11am – 11:30pm (Mon-Sun)</td>\n",
       "      <td>Kochi</td>\n",
       "      <td>Edappally</td>\n",
       "      <td>-</td>\n",
       "      <td>NaN</td>\n",
       "      <td>400</td>\n",
       "    </tr>\n",
       "    <tr>\n",
       "      <th>14</th>\n",
       "      <td>QUICK BITES</td>\n",
       "      <td>15024</td>\n",
       "      <td>Maharashtrian</td>\n",
       "      <td>Closed (Mon),11am – 11pm (Tue-Sun)</td>\n",
       "      <td>Thane West</td>\n",
       "      <td>Majiwada</td>\n",
       "      <td>4.0</td>\n",
       "      <td>160 votes</td>\n",
       "      <td>300</td>\n",
       "    </tr>\n",
       "    <tr>\n",
       "      <th>15</th>\n",
       "      <td>CASUAL DINING,IRANI CAFE</td>\n",
       "      <td>12401</td>\n",
       "      <td>Parsi, Hyderabadi</td>\n",
       "      <td>11:30am – 11:30pm (Mon, Tue, Wed, Thu, Sun)...</td>\n",
       "      <td>Hyderabad</td>\n",
       "      <td>Jubilee Hills</td>\n",
       "      <td>4.5</td>\n",
       "      <td>2499 votes</td>\n",
       "      <td>1400</td>\n",
       "    </tr>\n",
       "    <tr>\n",
       "      <th>16</th>\n",
       "      <td>CASUAL DINING</td>\n",
       "      <td>5254</td>\n",
       "      <td>North Indian, Fast Food</td>\n",
       "      <td>7:30am – 12midnight (Mon-Sun)</td>\n",
       "      <td>Mumbai</td>\n",
       "      <td>Borivali West</td>\n",
       "      <td>3.6</td>\n",
       "      <td>319 votes</td>\n",
       "      <td>900</td>\n",
       "    </tr>\n",
       "    <tr>\n",
       "      <th>17</th>\n",
       "      <td>CASUAL DINING</td>\n",
       "      <td>8259</td>\n",
       "      <td>North Indian, Hyderabadi, Chinese</td>\n",
       "      <td>11am – 12midnight (Mon-Sun)</td>\n",
       "      <td>Hyderabad</td>\n",
       "      <td>Nagole</td>\n",
       "      <td>3.5</td>\n",
       "      <td>121 votes</td>\n",
       "      <td>600</td>\n",
       "    </tr>\n",
       "    <tr>\n",
       "      <th>18</th>\n",
       "      <td>CASUAL DINING</td>\n",
       "      <td>4009</td>\n",
       "      <td>Chinese, Thai</td>\n",
       "      <td>11am – 11:45pm (Mon-Sun)</td>\n",
       "      <td>Andheri Lokhandwala</td>\n",
       "      <td>Andheri Lokhandwala</td>\n",
       "      <td>3.6</td>\n",
       "      <td>535 votes</td>\n",
       "      <td>600</td>\n",
       "    </tr>\n",
       "    <tr>\n",
       "      <th>19</th>\n",
       "      <td>BAKERY,QUICK BITES</td>\n",
       "      <td>11841</td>\n",
       "      <td>Bakery, Fast Food, Momos</td>\n",
       "      <td>Closed (Mon),9am – 10pm (Tue-Sun)</td>\n",
       "      <td>New Delhi</td>\n",
       "      <td>Krishna Nagar</td>\n",
       "      <td>4.1</td>\n",
       "      <td>350 votes</td>\n",
       "      <td>200</td>\n",
       "    </tr>\n",
       "    <tr>\n",
       "      <th>20</th>\n",
       "      <td>CASUAL DINING</td>\n",
       "      <td>6465</td>\n",
       "      <td>Continental, European</td>\n",
       "      <td>9:30am – 10pm (Mon-Sun)</td>\n",
       "      <td>Hyderabad</td>\n",
       "      <td>Hitech City</td>\n",
       "      <td>4.2</td>\n",
       "      <td>400 votes</td>\n",
       "      <td>350</td>\n",
       "    </tr>\n",
       "    <tr>\n",
       "      <th>21</th>\n",
       "      <td>QUICK BITES</td>\n",
       "      <td>1048</td>\n",
       "      <td>North Indian, Rolls, Momos</td>\n",
       "      <td>10:30am – 11:30pm (Mon-Sun)</td>\n",
       "      <td>New Delhi</td>\n",
       "      <td>Karol Bagh</td>\n",
       "      <td>4.0</td>\n",
       "      <td>1327 votes</td>\n",
       "      <td>500</td>\n",
       "    </tr>\n",
       "    <tr>\n",
       "      <th>22</th>\n",
       "      <td>None</td>\n",
       "      <td>12499</td>\n",
       "      <td>North Indian, Fast Food, Mughlai, Rolls</td>\n",
       "      <td>11am – 3am (Mon-Sun)</td>\n",
       "      <td>New Delhi</td>\n",
       "      <td>SDA</td>\n",
       "      <td>4.0</td>\n",
       "      <td>1191 votes</td>\n",
       "      <td>450</td>\n",
       "    </tr>\n",
       "    <tr>\n",
       "      <th>23</th>\n",
       "      <td>CASUAL DINING</td>\n",
       "      <td>10412</td>\n",
       "      <td>Andhra, Chinese, North Indian, Biryani</td>\n",
       "      <td>11am – 3:30pm, 7pm – 11pm (Mon-Sun)</td>\n",
       "      <td>Bangalore</td>\n",
       "      <td>Thippasandra</td>\n",
       "      <td>3.9</td>\n",
       "      <td>533 votes</td>\n",
       "      <td>600</td>\n",
       "    </tr>\n",
       "    <tr>\n",
       "      <th>24</th>\n",
       "      <td>CAFÉ</td>\n",
       "      <td>2389</td>\n",
       "      <td>Cafe, Italian, Chinese</td>\n",
       "      <td>11am – 11pm (Mon-Sun)</td>\n",
       "      <td>New Delhi</td>\n",
       "      <td>Dwarka</td>\n",
       "      <td>4.2</td>\n",
       "      <td>493 votes</td>\n",
       "      <td>700</td>\n",
       "    </tr>\n",
       "  </tbody>\n",
       "</table>\n",
       "</div>"
      ],
      "text/plain": [
       "                        TITLE  RESTAURANT_ID  \\\n",
       "0               CASUAL DINING           9438   \n",
       "1           CASUAL DINING,BAR          13198   \n",
       "2               CASUAL DINING          10915   \n",
       "3                 QUICK BITES           6346   \n",
       "4              DESSERT PARLOR          15387   \n",
       "5               CASUAL DINING           5618   \n",
       "6                        CAFÉ           4383   \n",
       "7                MICROBREWERY           1249   \n",
       "8                 QUICK BITES           7062   \n",
       "9                 QUICK BITES          10109   \n",
       "10              CASUAL DINING             38   \n",
       "11  QUICK BITES,BEVERAGE SHOP            844   \n",
       "12              CASUAL DINING            938   \n",
       "13              CASUAL DINING           4319   \n",
       "14                QUICK BITES          15024   \n",
       "15   CASUAL DINING,IRANI CAFE          12401   \n",
       "16              CASUAL DINING           5254   \n",
       "17              CASUAL DINING           8259   \n",
       "18              CASUAL DINING           4009   \n",
       "19         BAKERY,QUICK BITES          11841   \n",
       "20              CASUAL DINING           6465   \n",
       "21                QUICK BITES           1048   \n",
       "22                       None          12499   \n",
       "23              CASUAL DINING          10412   \n",
       "24                       CAFÉ           2389   \n",
       "\n",
       "                                      CUISINES  \\\n",
       "0                  Malwani, Goan, North Indian   \n",
       "1               Asian, Modern Indian, Japanese   \n",
       "2   North Indian, Chinese, Biryani, Hyderabadi   \n",
       "3                             Tibetan, Chinese   \n",
       "4                                     Desserts   \n",
       "5      North Indian, Chinese, Seafood, Biryani   \n",
       "6   Cafe, Chinese, Pizza, North Indian, Burger   \n",
       "7                                     Bar Food   \n",
       "8                   South Indian, North Indian   \n",
       "9                                 North Indian   \n",
       "10   North Indian, Chinese, Fast Food, Biryani   \n",
       "11                Fast Food, Burger, Beverages   \n",
       "12                            Arabian, Mughlai   \n",
       "13                                South Indian   \n",
       "14                               Maharashtrian   \n",
       "15                           Parsi, Hyderabadi   \n",
       "16                     North Indian, Fast Food   \n",
       "17           North Indian, Hyderabadi, Chinese   \n",
       "18                               Chinese, Thai   \n",
       "19                    Bakery, Fast Food, Momos   \n",
       "20                       Continental, European   \n",
       "21                  North Indian, Rolls, Momos   \n",
       "22     North Indian, Fast Food, Mughlai, Rolls   \n",
       "23      Andhra, Chinese, North Indian, Biryani   \n",
       "24                      Cafe, Italian, Chinese   \n",
       "\n",
       "                                                 TIME                 CITY  \\\n",
       "0              11am – 4pm, 7:30pm – 11:30pm (Mon-Sun)                Thane   \n",
       "1                                6pm – 11pm (Mon-Sun)              Chennai   \n",
       "2                 11am – 3:30pm, 7pm – 11pm (Mon-Sun)              Chennai   \n",
       "3                             11:30am – 1am (Mon-Sun)               Mumbai   \n",
       "4                                11am – 1am (Mon-Sun)               Mumbai   \n",
       "5                          12noon – 12:30AM (Mon-Sun)               Mumbai   \n",
       "6   12noon – 11:30pm (Mon, Tue, Thu, Fri, Sat, Sun...            Bangalore   \n",
       "7                                 1pm – 1am (Mon-Sun)              Gurgaon   \n",
       "8                             7am – 10:30pm (Mon-Sun)            Bangalore   \n",
       "9                 11am – 2pm, 4pm – 10:30pm (Mon-Sun)            Hyderabad   \n",
       "10                        12:30pm – 12:30AM (Mon-Sun)            Bangalore   \n",
       "11   11am – 12:15AM (Mon, Tue, Wed, Thu, Fri, Sun)...            Bangalore   \n",
       "12                              11am – 11pm (Mon-Sun)                Kochi   \n",
       "13                           11am – 11:30pm (Mon-Sun)                Kochi   \n",
       "14                 Closed (Mon),11am – 11pm (Tue-Sun)           Thane West   \n",
       "15     11:30am – 11:30pm (Mon, Tue, Wed, Thu, Sun)...            Hyderabad   \n",
       "16                      7:30am – 12midnight (Mon-Sun)               Mumbai   \n",
       "17                        11am – 12midnight (Mon-Sun)            Hyderabad   \n",
       "18                           11am – 11:45pm (Mon-Sun)  Andheri Lokhandwala   \n",
       "19                  Closed (Mon),9am – 10pm (Tue-Sun)            New Delhi   \n",
       "20                            9:30am – 10pm (Mon-Sun)            Hyderabad   \n",
       "21                        10:30am – 11:30pm (Mon-Sun)            New Delhi   \n",
       "22                               11am – 3am (Mon-Sun)            New Delhi   \n",
       "23                11am – 3:30pm, 7pm – 11pm (Mon-Sun)            Bangalore   \n",
       "24                              11am – 11pm (Mon-Sun)            New Delhi   \n",
       "\n",
       "                 LOCALITY RATING       VOTES  COST  \n",
       "0          Dombivali East    3.6    49 votes  1200  \n",
       "1               Ramapuram    4.2    30 votes  1500  \n",
       "2              Saligramam    3.8   221 votes   800  \n",
       "3             Bandra West    4.1    24 votes   800  \n",
       "4             Lower Parel    3.8   165 votes   300  \n",
       "5         Vile Parle West    4.0   550 votes   800  \n",
       "6   Koramangala 6th Block    4.1   509 votes   600  \n",
       "7               Sector 29    4.3  1612 votes  1600  \n",
       "8       Bannerghatta Road    3.9   101 votes   300  \n",
       "9            Dilsukhnagar    3.3   219 votes   200  \n",
       "10  Koramangala 5th Block    4.1   244 votes   900  \n",
       "11            Indiranagar    4.0   274 votes   800  \n",
       "12             Chullickal    3.4    15 votes   600  \n",
       "13              Edappally      -         NaN   400  \n",
       "14               Majiwada    4.0   160 votes   300  \n",
       "15          Jubilee Hills    4.5  2499 votes  1400  \n",
       "16          Borivali West    3.6   319 votes   900  \n",
       "17                 Nagole    3.5   121 votes   600  \n",
       "18    Andheri Lokhandwala    3.6   535 votes   600  \n",
       "19          Krishna Nagar    4.1   350 votes   200  \n",
       "20            Hitech City    4.2   400 votes   350  \n",
       "21             Karol Bagh    4.0  1327 votes   500  \n",
       "22                    SDA    4.0  1191 votes   450  \n",
       "23           Thippasandra    3.9   533 votes   600  \n",
       "24                 Dwarka    4.2   493 votes   700  "
      ]
     },
     "execution_count": 3,
     "metadata": {},
     "output_type": "execute_result"
    }
   ],
   "source": [
    "train.head(25)"
   ]
  },
  {
   "cell_type": "code",
   "execution_count": 4,
   "metadata": {},
   "outputs": [
    {
     "name": "stdout",
     "output_type": "stream",
     "text": [
      "<class 'pandas.core.frame.DataFrame'>\n",
      "RangeIndex: 12690 entries, 0 to 12689\n",
      "Data columns (total 9 columns):\n",
      " #   Column         Non-Null Count  Dtype \n",
      "---  ------         --------------  ----- \n",
      " 0   TITLE          12690 non-null  object\n",
      " 1   RESTAURANT_ID  12690 non-null  int64 \n",
      " 2   CUISINES       12690 non-null  object\n",
      " 3   TIME           12690 non-null  object\n",
      " 4   CITY           12578 non-null  object\n",
      " 5   LOCALITY       12592 non-null  object\n",
      " 6   RATING         12688 non-null  object\n",
      " 7   VOTES          11486 non-null  object\n",
      " 8   COST           12690 non-null  int64 \n",
      "dtypes: int64(2), object(7)\n",
      "memory usage: 892.4+ KB\n"
     ]
    }
   ],
   "source": [
    "train.info()"
   ]
  },
  {
   "cell_type": "code",
   "execution_count": 5,
   "metadata": {},
   "outputs": [
    {
     "data": {
      "text/plain": [
       "(12690, 9)"
      ]
     },
     "execution_count": 5,
     "metadata": {},
     "output_type": "execute_result"
    }
   ],
   "source": [
    "train.shape"
   ]
  },
  {
   "cell_type": "code",
   "execution_count": 6,
   "metadata": {},
   "outputs": [
    {
     "data": {
      "text/plain": [
       "TITLE               0\n",
       "RESTAURANT_ID       0\n",
       "CUISINES            0\n",
       "TIME                0\n",
       "CITY              112\n",
       "LOCALITY           98\n",
       "RATING              2\n",
       "VOTES            1204\n",
       "COST                0\n",
       "dtype: int64"
      ]
     },
     "execution_count": 6,
     "metadata": {},
     "output_type": "execute_result"
    }
   ],
   "source": [
    "train.isnull().sum()"
   ]
  },
  {
   "cell_type": "code",
   "execution_count": 7,
   "metadata": {},
   "outputs": [
    {
     "data": {
      "text/html": [
       "<div>\n",
       "<style scoped>\n",
       "    .dataframe tbody tr th:only-of-type {\n",
       "        vertical-align: middle;\n",
       "    }\n",
       "\n",
       "    .dataframe tbody tr th {\n",
       "        vertical-align: top;\n",
       "    }\n",
       "\n",
       "    .dataframe thead th {\n",
       "        text-align: right;\n",
       "    }\n",
       "</style>\n",
       "<table border=\"1\" class=\"dataframe\">\n",
       "  <thead>\n",
       "    <tr style=\"text-align: right;\">\n",
       "      <th></th>\n",
       "      <th>TITLE</th>\n",
       "      <th>RESTAURANT_ID</th>\n",
       "      <th>CUISINES</th>\n",
       "      <th>TIME</th>\n",
       "      <th>CITY</th>\n",
       "      <th>LOCALITY</th>\n",
       "      <th>RATING</th>\n",
       "      <th>VOTES</th>\n",
       "    </tr>\n",
       "  </thead>\n",
       "  <tbody>\n",
       "    <tr>\n",
       "      <th>0</th>\n",
       "      <td>CASUAL DINING</td>\n",
       "      <td>4085</td>\n",
       "      <td>North Indian, Chinese, Mughlai, Kebab</td>\n",
       "      <td>12noon – 12midnight (Mon-Sun)</td>\n",
       "      <td>Noida</td>\n",
       "      <td>Sector 18</td>\n",
       "      <td>4.3</td>\n",
       "      <td>564 votes</td>\n",
       "    </tr>\n",
       "    <tr>\n",
       "      <th>1</th>\n",
       "      <td>QUICK BITES</td>\n",
       "      <td>12680</td>\n",
       "      <td>South Indian, Fast Food, Pizza, North Indian</td>\n",
       "      <td>7am – 12:30AM (Mon-Sun)</td>\n",
       "      <td>Mumbai</td>\n",
       "      <td>Grant Road</td>\n",
       "      <td>4.2</td>\n",
       "      <td>61 votes</td>\n",
       "    </tr>\n",
       "    <tr>\n",
       "      <th>2</th>\n",
       "      <td>CASUAL DINING</td>\n",
       "      <td>1411</td>\n",
       "      <td>North Indian, Seafood, Biryani, Chinese</td>\n",
       "      <td>11am – 11:30pm (Mon-Sun)</td>\n",
       "      <td>Mumbai</td>\n",
       "      <td>Marine Lines</td>\n",
       "      <td>3.8</td>\n",
       "      <td>350 votes</td>\n",
       "    </tr>\n",
       "    <tr>\n",
       "      <th>3</th>\n",
       "      <td>None</td>\n",
       "      <td>204</td>\n",
       "      <td>Biryani</td>\n",
       "      <td>9am – 10pm (Mon, Wed, Thu, Fri, Sat, Sun), 10:...</td>\n",
       "      <td>Faridabad</td>\n",
       "      <td>NIT</td>\n",
       "      <td>3.8</td>\n",
       "      <td>1445 votes</td>\n",
       "    </tr>\n",
       "    <tr>\n",
       "      <th>4</th>\n",
       "      <td>QUICK BITES</td>\n",
       "      <td>13453</td>\n",
       "      <td>South Indian, Kerala</td>\n",
       "      <td>11am – 10pm (Mon-Sun)</td>\n",
       "      <td>Kochi</td>\n",
       "      <td>Kaloor</td>\n",
       "      <td>3.6</td>\n",
       "      <td>23 votes</td>\n",
       "    </tr>\n",
       "  </tbody>\n",
       "</table>\n",
       "</div>"
      ],
      "text/plain": [
       "           TITLE  RESTAURANT_ID                                      CUISINES  \\\n",
       "0  CASUAL DINING           4085         North Indian, Chinese, Mughlai, Kebab   \n",
       "1    QUICK BITES          12680  South Indian, Fast Food, Pizza, North Indian   \n",
       "2  CASUAL DINING           1411       North Indian, Seafood, Biryani, Chinese   \n",
       "3           None            204                                       Biryani   \n",
       "4    QUICK BITES          13453                          South Indian, Kerala   \n",
       "\n",
       "                                                TIME       CITY      LOCALITY  \\\n",
       "0                      12noon – 12midnight (Mon-Sun)      Noida     Sector 18   \n",
       "1                            7am – 12:30AM (Mon-Sun)     Mumbai    Grant Road   \n",
       "2                           11am – 11:30pm (Mon-Sun)     Mumbai  Marine Lines   \n",
       "3  9am – 10pm (Mon, Wed, Thu, Fri, Sat, Sun), 10:...  Faridabad           NIT   \n",
       "4                              11am – 10pm (Mon-Sun)      Kochi        Kaloor   \n",
       "\n",
       "  RATING       VOTES  \n",
       "0    4.3   564 votes  \n",
       "1    4.2    61 votes  \n",
       "2    3.8   350 votes  \n",
       "3    3.8  1445 votes  \n",
       "4    3.6    23 votes  "
      ]
     },
     "execution_count": 7,
     "metadata": {},
     "output_type": "execute_result"
    }
   ],
   "source": [
    "test.head()"
   ]
  },
  {
   "cell_type": "code",
   "execution_count": 8,
   "metadata": {},
   "outputs": [
    {
     "name": "stdout",
     "output_type": "stream",
     "text": [
      "<class 'pandas.core.frame.DataFrame'>\n",
      "RangeIndex: 4231 entries, 0 to 4230\n",
      "Data columns (total 8 columns):\n",
      " #   Column         Non-Null Count  Dtype \n",
      "---  ------         --------------  ----- \n",
      " 0   TITLE          4231 non-null   object\n",
      " 1   RESTAURANT_ID  4231 non-null   int64 \n",
      " 2   CUISINES       4231 non-null   object\n",
      " 3   TIME           4231 non-null   object\n",
      " 4   CITY           4196 non-null   object\n",
      " 5   LOCALITY       4201 non-null   object\n",
      " 6   RATING         4229 non-null   object\n",
      " 7   VOTES          3829 non-null   object\n",
      "dtypes: int64(1), object(7)\n",
      "memory usage: 264.6+ KB\n"
     ]
    }
   ],
   "source": [
    "test.info()"
   ]
  },
  {
   "cell_type": "code",
   "execution_count": 9,
   "metadata": {},
   "outputs": [
    {
     "data": {
      "text/plain": [
       "(4231, 8)"
      ]
     },
     "execution_count": 9,
     "metadata": {},
     "output_type": "execute_result"
    }
   ],
   "source": [
    "test.shape"
   ]
  },
  {
   "cell_type": "code",
   "execution_count": 10,
   "metadata": {},
   "outputs": [
    {
     "data": {
      "text/plain": [
       "TITLE              0\n",
       "RESTAURANT_ID      0\n",
       "CUISINES           0\n",
       "TIME               0\n",
       "CITY              35\n",
       "LOCALITY          30\n",
       "RATING             2\n",
       "VOTES            402\n",
       "dtype: int64"
      ]
     },
     "execution_count": 10,
     "metadata": {},
     "output_type": "execute_result"
    }
   ],
   "source": [
    "test.isnull().sum()"
   ]
  },
  {
   "cell_type": "code",
   "execution_count": 11,
   "metadata": {},
   "outputs": [],
   "source": [
    "Rest_DF=train.append(test)"
   ]
  },
  {
   "cell_type": "code",
   "execution_count": 12,
   "metadata": {},
   "outputs": [
    {
     "data": {
      "text/plain": [
       "TITLE               0\n",
       "RESTAURANT_ID       0\n",
       "CUISINES            0\n",
       "TIME                0\n",
       "CITY              147\n",
       "LOCALITY          128\n",
       "RATING              4\n",
       "VOTES            1606\n",
       "COST             4231\n",
       "dtype: int64"
      ]
     },
     "execution_count": 12,
     "metadata": {},
     "output_type": "execute_result"
    }
   ],
   "source": [
    "Rest_DF.isnull().sum()"
   ]
  },
  {
   "cell_type": "code",
   "execution_count": 13,
   "metadata": {},
   "outputs": [],
   "source": [
    "Rest_DF['CITY'].fillna('Unknown', inplace=True)\n",
    "\n",
    "Rest_DF['LOCALITY'].fillna('Unknown', inplace=True)\n",
    "\n",
    "Rest_DF['RATING'].fillna('0.0', inplace=True)\n",
    "\n",
    "Rest_DF['VOTES'].fillna('0 votes', inplace=True)\n",
    "\n",
    "Rest_DF['COST'].fillna('0', inplace=True)"
   ]
  },
  {
   "cell_type": "code",
   "execution_count": 14,
   "metadata": {},
   "outputs": [
    {
     "data": {
      "text/plain": [
       "TITLE            0\n",
       "RESTAURANT_ID    0\n",
       "CUISINES         0\n",
       "TIME             0\n",
       "CITY             0\n",
       "LOCALITY         0\n",
       "RATING           0\n",
       "VOTES            0\n",
       "COST             0\n",
       "dtype: int64"
      ]
     },
     "execution_count": 14,
     "metadata": {},
     "output_type": "execute_result"
    }
   ],
   "source": [
    "Rest_DF.isnull().sum()"
   ]
  },
  {
   "cell_type": "code",
   "execution_count": 15,
   "metadata": {},
   "outputs": [
    {
     "data": {
      "text/plain": [
       "QUICK BITES                     5634\n",
       "CASUAL DINING                   4910\n",
       "None                            1287\n",
       "CAFÉ                             830\n",
       "DESSERT PARLOR                   508\n",
       "                                ... \n",
       "BEVERAGE SHOP,FOOD COURT           1\n",
       "FOOD TRUCK,DESSERT PARLOR          1\n",
       "CONFECTIONERY,QUICK BITES          1\n",
       "CASUAL DINING,DESSERT PARLOR       1\n",
       "CAFÉ,FINE DINING                   1\n",
       "Name: TITLE, Length: 123, dtype: int64"
      ]
     },
     "execution_count": 15,
     "metadata": {},
     "output_type": "execute_result"
    }
   ],
   "source": [
    "Rest_DF['TITLE'].value_counts()"
   ]
  },
  {
   "cell_type": "code",
   "execution_count": 16,
   "metadata": {},
   "outputs": [
    {
     "data": {
      "text/plain": [
       "North Indian                                                           716\n",
       "North Indian, Chinese                                                  714\n",
       "South Indian                                                           706\n",
       "Fast Food                                                              364\n",
       "Chinese                                                                226\n",
       "                                                                      ... \n",
       "Cafe, Italian, Pizza, Beverages, Desserts                                1\n",
       "Desserts, Ice Cream, North Indian                                        1\n",
       "Steak, Italian, Continental, American, Burger, BBQ, Salad                1\n",
       "American, Continental, Italian, Sandwich, Burger, Pizza, Beverages,      1\n",
       "Continental, Lebanese, Mediterranean, North Indian                       1\n",
       "Name: CUISINES, Length: 5183, dtype: int64"
      ]
     },
     "execution_count": 16,
     "metadata": {},
     "output_type": "execute_result"
    }
   ],
   "source": [
    "Rest_DF['CUISINES'].value_counts()"
   ]
  },
  {
   "cell_type": "code",
   "execution_count": 17,
   "metadata": {},
   "outputs": [],
   "source": [
    "Rest_DF['COST'] = Rest_DF['COST'].astype(float)"
   ]
  },
  {
   "cell_type": "code",
   "execution_count": 18,
   "metadata": {},
   "outputs": [],
   "source": [
    "Rest_DF[\"VOTES\"] =Rest_DF[\"VOTES\"].str.split()\n",
    "Rest_DF[\"VOTES\"] = Rest_DF[\"VOTES\"].str[0].astype('float')"
   ]
  },
  {
   "cell_type": "code",
   "execution_count": 19,
   "metadata": {},
   "outputs": [],
   "source": [
    "Rest_DF['RATING']=Rest_DF['RATING'].str.extract('(\\d+)').astype(float)"
   ]
  },
  {
   "cell_type": "code",
   "execution_count": 20,
   "metadata": {},
   "outputs": [
    {
     "data": {
      "text/html": [
       "<div>\n",
       "<style scoped>\n",
       "    .dataframe tbody tr th:only-of-type {\n",
       "        vertical-align: middle;\n",
       "    }\n",
       "\n",
       "    .dataframe tbody tr th {\n",
       "        vertical-align: top;\n",
       "    }\n",
       "\n",
       "    .dataframe thead th {\n",
       "        text-align: right;\n",
       "    }\n",
       "</style>\n",
       "<table border=\"1\" class=\"dataframe\">\n",
       "  <thead>\n",
       "    <tr style=\"text-align: right;\">\n",
       "      <th></th>\n",
       "      <th>TITLE</th>\n",
       "      <th>RESTAURANT_ID</th>\n",
       "      <th>CUISINES</th>\n",
       "      <th>TIME</th>\n",
       "      <th>CITY</th>\n",
       "      <th>LOCALITY</th>\n",
       "      <th>RATING</th>\n",
       "      <th>VOTES</th>\n",
       "      <th>COST</th>\n",
       "    </tr>\n",
       "  </thead>\n",
       "  <tbody>\n",
       "    <tr>\n",
       "      <th>0</th>\n",
       "      <td>CASUAL DINING</td>\n",
       "      <td>9438</td>\n",
       "      <td>Malwani, Goan, North Indian</td>\n",
       "      <td>11am – 4pm, 7:30pm – 11:30pm (Mon-Sun)</td>\n",
       "      <td>Thane</td>\n",
       "      <td>Dombivali East</td>\n",
       "      <td>3.0</td>\n",
       "      <td>49.0</td>\n",
       "      <td>1200.0</td>\n",
       "    </tr>\n",
       "    <tr>\n",
       "      <th>1</th>\n",
       "      <td>CASUAL DINING,BAR</td>\n",
       "      <td>13198</td>\n",
       "      <td>Asian, Modern Indian, Japanese</td>\n",
       "      <td>6pm – 11pm (Mon-Sun)</td>\n",
       "      <td>Chennai</td>\n",
       "      <td>Ramapuram</td>\n",
       "      <td>4.0</td>\n",
       "      <td>30.0</td>\n",
       "      <td>1500.0</td>\n",
       "    </tr>\n",
       "    <tr>\n",
       "      <th>2</th>\n",
       "      <td>CASUAL DINING</td>\n",
       "      <td>10915</td>\n",
       "      <td>North Indian, Chinese, Biryani, Hyderabadi</td>\n",
       "      <td>11am – 3:30pm, 7pm – 11pm (Mon-Sun)</td>\n",
       "      <td>Chennai</td>\n",
       "      <td>Saligramam</td>\n",
       "      <td>3.0</td>\n",
       "      <td>221.0</td>\n",
       "      <td>800.0</td>\n",
       "    </tr>\n",
       "    <tr>\n",
       "      <th>3</th>\n",
       "      <td>QUICK BITES</td>\n",
       "      <td>6346</td>\n",
       "      <td>Tibetan, Chinese</td>\n",
       "      <td>11:30am – 1am (Mon-Sun)</td>\n",
       "      <td>Mumbai</td>\n",
       "      <td>Bandra West</td>\n",
       "      <td>4.0</td>\n",
       "      <td>24.0</td>\n",
       "      <td>800.0</td>\n",
       "    </tr>\n",
       "    <tr>\n",
       "      <th>4</th>\n",
       "      <td>DESSERT PARLOR</td>\n",
       "      <td>15387</td>\n",
       "      <td>Desserts</td>\n",
       "      <td>11am – 1am (Mon-Sun)</td>\n",
       "      <td>Mumbai</td>\n",
       "      <td>Lower Parel</td>\n",
       "      <td>3.0</td>\n",
       "      <td>165.0</td>\n",
       "      <td>300.0</td>\n",
       "    </tr>\n",
       "  </tbody>\n",
       "</table>\n",
       "</div>"
      ],
      "text/plain": [
       "               TITLE  RESTAURANT_ID  \\\n",
       "0      CASUAL DINING           9438   \n",
       "1  CASUAL DINING,BAR          13198   \n",
       "2      CASUAL DINING          10915   \n",
       "3        QUICK BITES           6346   \n",
       "4     DESSERT PARLOR          15387   \n",
       "\n",
       "                                     CUISINES  \\\n",
       "0                 Malwani, Goan, North Indian   \n",
       "1              Asian, Modern Indian, Japanese   \n",
       "2  North Indian, Chinese, Biryani, Hyderabadi   \n",
       "3                            Tibetan, Chinese   \n",
       "4                                    Desserts   \n",
       "\n",
       "                                     TIME     CITY        LOCALITY  RATING  \\\n",
       "0  11am – 4pm, 7:30pm – 11:30pm (Mon-Sun)    Thane  Dombivali East     3.0   \n",
       "1                    6pm – 11pm (Mon-Sun)  Chennai       Ramapuram     4.0   \n",
       "2     11am – 3:30pm, 7pm – 11pm (Mon-Sun)  Chennai      Saligramam     3.0   \n",
       "3                 11:30am – 1am (Mon-Sun)   Mumbai     Bandra West     4.0   \n",
       "4                    11am – 1am (Mon-Sun)   Mumbai     Lower Parel     3.0   \n",
       "\n",
       "   VOTES    COST  \n",
       "0   49.0  1200.0  \n",
       "1   30.0  1500.0  \n",
       "2  221.0   800.0  \n",
       "3   24.0   800.0  \n",
       "4  165.0   300.0  "
      ]
     },
     "execution_count": 20,
     "metadata": {},
     "output_type": "execute_result"
    }
   ],
   "source": [
    "Rest_DF.head()"
   ]
  },
  {
   "cell_type": "code",
   "execution_count": 21,
   "metadata": {},
   "outputs": [
    {
     "data": {
      "text/plain": [
       "Gachibowli             216\n",
       "Indiranagar            187\n",
       "Kakkanad               175\n",
       "Kukatpally             171\n",
       "Madhapur               169\n",
       "                      ... \n",
       "Bhyander East            1\n",
       "Sector-16 Rohini         1\n",
       "Pandara Road             1\n",
       "Sector 15 Part 1         1\n",
       "Near Christ College      1\n",
       "Name: LOCALITY, Length: 1637, dtype: int64"
      ]
     },
     "execution_count": 21,
     "metadata": {},
     "output_type": "execute_result"
    }
   ],
   "source": [
    "Rest_DF['LOCALITY'].value_counts()"
   ]
  },
  {
   "cell_type": "code",
   "execution_count": 22,
   "metadata": {},
   "outputs": [
    {
     "data": {
      "text/plain": [
       "Chennai                  2855\n",
       "Bangalore                2835\n",
       "Hyderabad                2458\n",
       "Mumbai                   2311\n",
       "New Delhi                1754\n",
       "                         ... \n",
       "Kochi Kakkanad              1\n",
       "TCS Synergy park            1\n",
       "Chennai- 600107             1\n",
       "IOB Bank Kamala Nagar       1\n",
       "Khairatabad                 1\n",
       "Name: CITY, Length: 451, dtype: int64"
      ]
     },
     "execution_count": 22,
     "metadata": {},
     "output_type": "execute_result"
    }
   ],
   "source": [
    "Rest_DF['CITY'].value_counts()"
   ]
  },
  {
   "cell_type": "code",
   "execution_count": 23,
   "metadata": {},
   "outputs": [],
   "source": [
    "Rest_DF['LOCATION']=Rest_DF['CITY']+' '+Rest_DF['LOCALITY']\n",
    "Rest_DF.drop(columns=['CITY','LOCALITY'],inplace=True)\n",
    "from sklearn.preprocessing import LabelEncoder\n",
    "le = LabelEncoder()\n",
    "Rest_DF['LOCATION']=le.fit_transform(Rest_DF['LOCATION'])"
   ]
  },
  {
   "cell_type": "code",
   "execution_count": 24,
   "metadata": {},
   "outputs": [],
   "source": [
    "Rest_DF['CUISINES']=le.fit_transform(Rest_DF['CUISINES'])\n"
   ]
  },
  {
   "cell_type": "code",
   "execution_count": 25,
   "metadata": {},
   "outputs": [],
   "source": [
    "Rest_DF['TITLE']=le.fit_transform(Rest_DF['TITLE'])\n"
   ]
  },
  {
   "cell_type": "code",
   "execution_count": 26,
   "metadata": {},
   "outputs": [
    {
     "data": {
      "text/html": [
       "<div>\n",
       "<style scoped>\n",
       "    .dataframe tbody tr th:only-of-type {\n",
       "        vertical-align: middle;\n",
       "    }\n",
       "\n",
       "    .dataframe tbody tr th {\n",
       "        vertical-align: top;\n",
       "    }\n",
       "\n",
       "    .dataframe thead th {\n",
       "        text-align: right;\n",
       "    }\n",
       "</style>\n",
       "<table border=\"1\" class=\"dataframe\">\n",
       "  <thead>\n",
       "    <tr style=\"text-align: right;\">\n",
       "      <th></th>\n",
       "      <th>TITLE</th>\n",
       "      <th>RESTAURANT_ID</th>\n",
       "      <th>CUISINES</th>\n",
       "      <th>TIME</th>\n",
       "      <th>RATING</th>\n",
       "      <th>VOTES</th>\n",
       "      <th>COST</th>\n",
       "      <th>LOCATION</th>\n",
       "    </tr>\n",
       "  </thead>\n",
       "  <tbody>\n",
       "    <tr>\n",
       "      <th>0</th>\n",
       "      <td>34</td>\n",
       "      <td>9438</td>\n",
       "      <td>3294</td>\n",
       "      <td>11am – 4pm, 7:30pm – 11:30pm (Mon-Sun)</td>\n",
       "      <td>3.0</td>\n",
       "      <td>49.0</td>\n",
       "      <td>1200.0</td>\n",
       "      <td>1869</td>\n",
       "    </tr>\n",
       "    <tr>\n",
       "      <th>1</th>\n",
       "      <td>36</td>\n",
       "      <td>13198</td>\n",
       "      <td>364</td>\n",
       "      <td>6pm – 11pm (Mon-Sun)</td>\n",
       "      <td>4.0</td>\n",
       "      <td>30.0</td>\n",
       "      <td>1500.0</td>\n",
       "      <td>455</td>\n",
       "    </tr>\n",
       "    <tr>\n",
       "      <th>2</th>\n",
       "      <td>34</td>\n",
       "      <td>10915</td>\n",
       "      <td>3729</td>\n",
       "      <td>11am – 3:30pm, 7pm – 11pm (Mon-Sun)</td>\n",
       "      <td>3.0</td>\n",
       "      <td>221.0</td>\n",
       "      <td>800.0</td>\n",
       "      <td>460</td>\n",
       "    </tr>\n",
       "    <tr>\n",
       "      <th>3</th>\n",
       "      <td>104</td>\n",
       "      <td>6346</td>\n",
       "      <td>5156</td>\n",
       "      <td>11:30am – 1am (Mon-Sun)</td>\n",
       "      <td>4.0</td>\n",
       "      <td>24.0</td>\n",
       "      <td>800.0</td>\n",
       "      <td>1236</td>\n",
       "    </tr>\n",
       "    <tr>\n",
       "      <th>4</th>\n",
       "      <td>55</td>\n",
       "      <td>15387</td>\n",
       "      <td>2218</td>\n",
       "      <td>11am – 1am (Mon-Sun)</td>\n",
       "      <td>3.0</td>\n",
       "      <td>165.0</td>\n",
       "      <td>300.0</td>\n",
       "      <td>1300</td>\n",
       "    </tr>\n",
       "    <tr>\n",
       "      <th>5</th>\n",
       "      <td>34</td>\n",
       "      <td>5618</td>\n",
       "      <td>3907</td>\n",
       "      <td>12noon – 12:30AM (Mon-Sun)</td>\n",
       "      <td>4.0</td>\n",
       "      <td>550.0</td>\n",
       "      <td>800.0</td>\n",
       "      <td>1373</td>\n",
       "    </tr>\n",
       "    <tr>\n",
       "      <th>6</th>\n",
       "      <td>24</td>\n",
       "      <td>4383</td>\n",
       "      <td>994</td>\n",
       "      <td>12noon – 11:30pm (Mon, Tue, Thu, Fri, Sat, Sun...</td>\n",
       "      <td>4.0</td>\n",
       "      <td>509.0</td>\n",
       "      <td>600.0</td>\n",
       "      <td>154</td>\n",
       "    </tr>\n",
       "    <tr>\n",
       "      <th>7</th>\n",
       "      <td>90</td>\n",
       "      <td>1249</td>\n",
       "      <td>520</td>\n",
       "      <td>1pm – 1am (Mon-Sun)</td>\n",
       "      <td>4.0</td>\n",
       "      <td>1612.0</td>\n",
       "      <td>1600.0</td>\n",
       "      <td>727</td>\n",
       "    </tr>\n",
       "    <tr>\n",
       "      <th>8</th>\n",
       "      <td>104</td>\n",
       "      <td>7062</td>\n",
       "      <td>4912</td>\n",
       "      <td>7am – 10:30pm (Mon-Sun)</td>\n",
       "      <td>3.0</td>\n",
       "      <td>101.0</td>\n",
       "      <td>300.0</td>\n",
       "      <td>89</td>\n",
       "    </tr>\n",
       "    <tr>\n",
       "      <th>9</th>\n",
       "      <td>104</td>\n",
       "      <td>10109</td>\n",
       "      <td>3574</td>\n",
       "      <td>11am – 2pm, 4pm – 10:30pm (Mon-Sun)</td>\n",
       "      <td>3.0</td>\n",
       "      <td>219.0</td>\n",
       "      <td>200.0</td>\n",
       "      <td>809</td>\n",
       "    </tr>\n",
       "    <tr>\n",
       "      <th>10</th>\n",
       "      <td>34</td>\n",
       "      <td>38</td>\n",
       "      <td>3794</td>\n",
       "      <td>12:30pm – 12:30AM (Mon-Sun)</td>\n",
       "      <td>4.0</td>\n",
       "      <td>244.0</td>\n",
       "      <td>900.0</td>\n",
       "      <td>152</td>\n",
       "    </tr>\n",
       "    <tr>\n",
       "      <th>11</th>\n",
       "      <td>107</td>\n",
       "      <td>844</td>\n",
       "      <td>2420</td>\n",
       "      <td>11am – 12:15AM (Mon, Tue, Wed, Thu, Fri, Sun)...</td>\n",
       "      <td>4.0</td>\n",
       "      <td>274.0</td>\n",
       "      <td>800.0</td>\n",
       "      <td>123</td>\n",
       "    </tr>\n",
       "    <tr>\n",
       "      <th>12</th>\n",
       "      <td>34</td>\n",
       "      <td>938</td>\n",
       "      <td>233</td>\n",
       "      <td>11am – 11pm (Mon-Sun)</td>\n",
       "      <td>3.0</td>\n",
       "      <td>15.0</td>\n",
       "      <td>600.0</td>\n",
       "      <td>1054</td>\n",
       "    </tr>\n",
       "    <tr>\n",
       "      <th>13</th>\n",
       "      <td>34</td>\n",
       "      <td>4319</td>\n",
       "      <td>4768</td>\n",
       "      <td>11am – 11:30pm (Mon-Sun)</td>\n",
       "      <td>NaN</td>\n",
       "      <td>0.0</td>\n",
       "      <td>400.0</td>\n",
       "      <td>1059</td>\n",
       "    </tr>\n",
       "    <tr>\n",
       "      <th>14</th>\n",
       "      <td>104</td>\n",
       "      <td>15024</td>\n",
       "      <td>3269</td>\n",
       "      <td>Closed (Mon),11am – 11pm (Tue-Sun)</td>\n",
       "      <td>4.0</td>\n",
       "      <td>160.0</td>\n",
       "      <td>300.0</td>\n",
       "      <td>1887</td>\n",
       "    </tr>\n",
       "    <tr>\n",
       "      <th>15</th>\n",
       "      <td>41</td>\n",
       "      <td>12401</td>\n",
       "      <td>4498</td>\n",
       "      <td>11:30am – 11:30pm (Mon, Tue, Wed, Thu, Sun)...</td>\n",
       "      <td>4.0</td>\n",
       "      <td>2499.0</td>\n",
       "      <td>1400.0</td>\n",
       "      <td>827</td>\n",
       "    </tr>\n",
       "    <tr>\n",
       "      <th>16</th>\n",
       "      <td>34</td>\n",
       "      <td>5254</td>\n",
       "      <td>4063</td>\n",
       "      <td>7:30am – 12midnight (Mon-Sun)</td>\n",
       "      <td>3.0</td>\n",
       "      <td>319.0</td>\n",
       "      <td>900.0</td>\n",
       "      <td>1243</td>\n",
       "    </tr>\n",
       "    <tr>\n",
       "      <th>17</th>\n",
       "      <td>34</td>\n",
       "      <td>8259</td>\n",
       "      <td>4106</td>\n",
       "      <td>11am – 12midnight (Mon-Sun)</td>\n",
       "      <td>3.0</td>\n",
       "      <td>121.0</td>\n",
       "      <td>600.0</td>\n",
       "      <td>858</td>\n",
       "    </tr>\n",
       "    <tr>\n",
       "      <th>18</th>\n",
       "      <td>34</td>\n",
       "      <td>4009</td>\n",
       "      <td>1717</td>\n",
       "      <td>11am – 11:45pm (Mon-Sun)</td>\n",
       "      <td>3.0</td>\n",
       "      <td>535.0</td>\n",
       "      <td>600.0</td>\n",
       "      <td>21</td>\n",
       "    </tr>\n",
       "    <tr>\n",
       "      <th>19</th>\n",
       "      <td>7</td>\n",
       "      <td>11841</td>\n",
       "      <td>486</td>\n",
       "      <td>Closed (Mon),9am – 10pm (Tue-Sun)</td>\n",
       "      <td>4.0</td>\n",
       "      <td>350.0</td>\n",
       "      <td>200.0</td>\n",
       "      <td>1519</td>\n",
       "    </tr>\n",
       "    <tr>\n",
       "      <th>20</th>\n",
       "      <td>34</td>\n",
       "      <td>6465</td>\n",
       "      <td>1929</td>\n",
       "      <td>9:30am – 10pm (Mon-Sun)</td>\n",
       "      <td>4.0</td>\n",
       "      <td>400.0</td>\n",
       "      <td>350.0</td>\n",
       "      <td>820</td>\n",
       "    </tr>\n",
       "    <tr>\n",
       "      <th>21</th>\n",
       "      <td>104</td>\n",
       "      <td>1048</td>\n",
       "      <td>4328</td>\n",
       "      <td>10:30am – 11:30pm (Mon-Sun)</td>\n",
       "      <td>4.0</td>\n",
       "      <td>1327.0</td>\n",
       "      <td>500.0</td>\n",
       "      <td>1513</td>\n",
       "    </tr>\n",
       "    <tr>\n",
       "      <th>22</th>\n",
       "      <td>95</td>\n",
       "      <td>12499</td>\n",
       "      <td>4081</td>\n",
       "      <td>11am – 3am (Mon-Sun)</td>\n",
       "      <td>4.0</td>\n",
       "      <td>1191.0</td>\n",
       "      <td>450.0</td>\n",
       "      <td>1613</td>\n",
       "    </tr>\n",
       "    <tr>\n",
       "      <th>23</th>\n",
       "      <td>34</td>\n",
       "      <td>10412</td>\n",
       "      <td>131</td>\n",
       "      <td>11am – 3:30pm, 7pm – 11pm (Mon-Sun)</td>\n",
       "      <td>3.0</td>\n",
       "      <td>533.0</td>\n",
       "      <td>600.0</td>\n",
       "      <td>220</td>\n",
       "    </tr>\n",
       "    <tr>\n",
       "      <th>24</th>\n",
       "      <td>24</td>\n",
       "      <td>2389</td>\n",
       "      <td>1175</td>\n",
       "      <td>11am – 11pm (Mon-Sun)</td>\n",
       "      <td>4.0</td>\n",
       "      <td>493.0</td>\n",
       "      <td>700.0</td>\n",
       "      <td>1466</td>\n",
       "    </tr>\n",
       "  </tbody>\n",
       "</table>\n",
       "</div>"
      ],
      "text/plain": [
       "    TITLE  RESTAURANT_ID  CUISINES  \\\n",
       "0      34           9438      3294   \n",
       "1      36          13198       364   \n",
       "2      34          10915      3729   \n",
       "3     104           6346      5156   \n",
       "4      55          15387      2218   \n",
       "5      34           5618      3907   \n",
       "6      24           4383       994   \n",
       "7      90           1249       520   \n",
       "8     104           7062      4912   \n",
       "9     104          10109      3574   \n",
       "10     34             38      3794   \n",
       "11    107            844      2420   \n",
       "12     34            938       233   \n",
       "13     34           4319      4768   \n",
       "14    104          15024      3269   \n",
       "15     41          12401      4498   \n",
       "16     34           5254      4063   \n",
       "17     34           8259      4106   \n",
       "18     34           4009      1717   \n",
       "19      7          11841       486   \n",
       "20     34           6465      1929   \n",
       "21    104           1048      4328   \n",
       "22     95          12499      4081   \n",
       "23     34          10412       131   \n",
       "24     24           2389      1175   \n",
       "\n",
       "                                                 TIME  RATING   VOTES    COST  \\\n",
       "0              11am – 4pm, 7:30pm – 11:30pm (Mon-Sun)     3.0    49.0  1200.0   \n",
       "1                                6pm – 11pm (Mon-Sun)     4.0    30.0  1500.0   \n",
       "2                 11am – 3:30pm, 7pm – 11pm (Mon-Sun)     3.0   221.0   800.0   \n",
       "3                             11:30am – 1am (Mon-Sun)     4.0    24.0   800.0   \n",
       "4                                11am – 1am (Mon-Sun)     3.0   165.0   300.0   \n",
       "5                          12noon – 12:30AM (Mon-Sun)     4.0   550.0   800.0   \n",
       "6   12noon – 11:30pm (Mon, Tue, Thu, Fri, Sat, Sun...     4.0   509.0   600.0   \n",
       "7                                 1pm – 1am (Mon-Sun)     4.0  1612.0  1600.0   \n",
       "8                             7am – 10:30pm (Mon-Sun)     3.0   101.0   300.0   \n",
       "9                 11am – 2pm, 4pm – 10:30pm (Mon-Sun)     3.0   219.0   200.0   \n",
       "10                        12:30pm – 12:30AM (Mon-Sun)     4.0   244.0   900.0   \n",
       "11   11am – 12:15AM (Mon, Tue, Wed, Thu, Fri, Sun)...     4.0   274.0   800.0   \n",
       "12                              11am – 11pm (Mon-Sun)     3.0    15.0   600.0   \n",
       "13                           11am – 11:30pm (Mon-Sun)     NaN     0.0   400.0   \n",
       "14                 Closed (Mon),11am – 11pm (Tue-Sun)     4.0   160.0   300.0   \n",
       "15     11:30am – 11:30pm (Mon, Tue, Wed, Thu, Sun)...     4.0  2499.0  1400.0   \n",
       "16                      7:30am – 12midnight (Mon-Sun)     3.0   319.0   900.0   \n",
       "17                        11am – 12midnight (Mon-Sun)     3.0   121.0   600.0   \n",
       "18                           11am – 11:45pm (Mon-Sun)     3.0   535.0   600.0   \n",
       "19                  Closed (Mon),9am – 10pm (Tue-Sun)     4.0   350.0   200.0   \n",
       "20                            9:30am – 10pm (Mon-Sun)     4.0   400.0   350.0   \n",
       "21                        10:30am – 11:30pm (Mon-Sun)     4.0  1327.0   500.0   \n",
       "22                               11am – 3am (Mon-Sun)     4.0  1191.0   450.0   \n",
       "23                11am – 3:30pm, 7pm – 11pm (Mon-Sun)     3.0   533.0   600.0   \n",
       "24                              11am – 11pm (Mon-Sun)     4.0   493.0   700.0   \n",
       "\n",
       "    LOCATION  \n",
       "0       1869  \n",
       "1        455  \n",
       "2        460  \n",
       "3       1236  \n",
       "4       1300  \n",
       "5       1373  \n",
       "6        154  \n",
       "7        727  \n",
       "8         89  \n",
       "9        809  \n",
       "10       152  \n",
       "11       123  \n",
       "12      1054  \n",
       "13      1059  \n",
       "14      1887  \n",
       "15       827  \n",
       "16      1243  \n",
       "17       858  \n",
       "18        21  \n",
       "19      1519  \n",
       "20       820  \n",
       "21      1513  \n",
       "22      1613  \n",
       "23       220  \n",
       "24      1466  "
      ]
     },
     "execution_count": 26,
     "metadata": {},
     "output_type": "execute_result"
    }
   ],
   "source": [
    "Rest_DF.head(25)"
   ]
  },
  {
   "cell_type": "code",
   "execution_count": 27,
   "metadata": {},
   "outputs": [
    {
     "data": {
      "text/html": [
       "<div>\n",
       "<style scoped>\n",
       "    .dataframe tbody tr th:only-of-type {\n",
       "        vertical-align: middle;\n",
       "    }\n",
       "\n",
       "    .dataframe tbody tr th {\n",
       "        vertical-align: top;\n",
       "    }\n",
       "\n",
       "    .dataframe thead th {\n",
       "        text-align: right;\n",
       "    }\n",
       "</style>\n",
       "<table border=\"1\" class=\"dataframe\">\n",
       "  <thead>\n",
       "    <tr style=\"text-align: right;\">\n",
       "      <th></th>\n",
       "      <th>TITLE</th>\n",
       "      <th>RESTAURANT_ID</th>\n",
       "      <th>CUISINES</th>\n",
       "      <th>TIME</th>\n",
       "      <th>RATING</th>\n",
       "      <th>VOTES</th>\n",
       "      <th>COST</th>\n",
       "      <th>LOCATION</th>\n",
       "    </tr>\n",
       "  </thead>\n",
       "  <tbody>\n",
       "    <tr>\n",
       "      <th>0</th>\n",
       "      <td>34</td>\n",
       "      <td>9438</td>\n",
       "      <td>3294</td>\n",
       "      <td>11am – 4pm, 7:30pm – 11:30pm (Mon-Sun)</td>\n",
       "      <td>3.0</td>\n",
       "      <td>49.0</td>\n",
       "      <td>1200.0</td>\n",
       "      <td>1869</td>\n",
       "    </tr>\n",
       "    <tr>\n",
       "      <th>1</th>\n",
       "      <td>36</td>\n",
       "      <td>13198</td>\n",
       "      <td>364</td>\n",
       "      <td>6pm – 11pm (Mon-Sun)</td>\n",
       "      <td>4.0</td>\n",
       "      <td>30.0</td>\n",
       "      <td>1500.0</td>\n",
       "      <td>455</td>\n",
       "    </tr>\n",
       "    <tr>\n",
       "      <th>2</th>\n",
       "      <td>34</td>\n",
       "      <td>10915</td>\n",
       "      <td>3729</td>\n",
       "      <td>11am – 3:30pm, 7pm – 11pm (Mon-Sun)</td>\n",
       "      <td>3.0</td>\n",
       "      <td>221.0</td>\n",
       "      <td>800.0</td>\n",
       "      <td>460</td>\n",
       "    </tr>\n",
       "    <tr>\n",
       "      <th>3</th>\n",
       "      <td>104</td>\n",
       "      <td>6346</td>\n",
       "      <td>5156</td>\n",
       "      <td>11:30am – 1am (Mon-Sun)</td>\n",
       "      <td>4.0</td>\n",
       "      <td>24.0</td>\n",
       "      <td>800.0</td>\n",
       "      <td>1236</td>\n",
       "    </tr>\n",
       "    <tr>\n",
       "      <th>4</th>\n",
       "      <td>55</td>\n",
       "      <td>15387</td>\n",
       "      <td>2218</td>\n",
       "      <td>11am – 1am (Mon-Sun)</td>\n",
       "      <td>3.0</td>\n",
       "      <td>165.0</td>\n",
       "      <td>300.0</td>\n",
       "      <td>1300</td>\n",
       "    </tr>\n",
       "  </tbody>\n",
       "</table>\n",
       "</div>"
      ],
      "text/plain": [
       "   TITLE  RESTAURANT_ID  CUISINES                                    TIME  \\\n",
       "0     34           9438      3294  11am – 4pm, 7:30pm – 11:30pm (Mon-Sun)   \n",
       "1     36          13198       364                    6pm – 11pm (Mon-Sun)   \n",
       "2     34          10915      3729     11am – 3:30pm, 7pm – 11pm (Mon-Sun)   \n",
       "3    104           6346      5156                 11:30am – 1am (Mon-Sun)   \n",
       "4     55          15387      2218                    11am – 1am (Mon-Sun)   \n",
       "\n",
       "   RATING  VOTES    COST  LOCATION  \n",
       "0     3.0   49.0  1200.0      1869  \n",
       "1     4.0   30.0  1500.0       455  \n",
       "2     3.0  221.0   800.0       460  \n",
       "3     4.0   24.0   800.0      1236  \n",
       "4     3.0  165.0   300.0      1300  "
      ]
     },
     "execution_count": 27,
     "metadata": {},
     "output_type": "execute_result"
    }
   ],
   "source": [
    "Rest_DF.head()"
   ]
  },
  {
   "cell_type": "code",
   "execution_count": 28,
   "metadata": {},
   "outputs": [],
   "source": [
    "Rest_DF.drop(columns='TIME',inplace=True)"
   ]
  },
  {
   "cell_type": "code",
   "execution_count": 29,
   "metadata": {},
   "outputs": [],
   "source": [
    "Rest_DF.fillna(0,inplace=True)"
   ]
  },
  {
   "cell_type": "code",
   "execution_count": 30,
   "metadata": {},
   "outputs": [],
   "source": [
    "train_set=Rest_DF[0:12690]\n",
    "test_set=Rest_DF[12690:]\n",
    "test_set=test_set.drop(['COST'],axis=1)"
   ]
  },
  {
   "cell_type": "code",
   "execution_count": 31,
   "metadata": {},
   "outputs": [
    {
     "data": {
      "text/plain": [
       "((12690, 7), (4231, 6))"
      ]
     },
     "execution_count": 31,
     "metadata": {},
     "output_type": "execute_result"
    }
   ],
   "source": [
    "train_set.shape,test_set.shape"
   ]
  },
  {
   "cell_type": "code",
   "execution_count": 32,
   "metadata": {},
   "outputs": [],
   "source": [
    "#separating input and output variable\n",
    "df_x=train_set.drop(['COST'],axis=1)\n",
    "y=train_set.COST\n",
    "from sklearn.preprocessing import StandardScaler\n",
    "ss=StandardScaler()\n",
    "x=ss.fit_transform(df_x)"
   ]
  },
  {
   "cell_type": "code",
   "execution_count": 33,
   "metadata": {},
   "outputs": [],
   "source": [
    "from sklearn.model_selection import train_test_split\n",
    "from sklearn.metrics import mean_absolute_error\n",
    "from sklearn.metrics import mean_squared_error\n",
    "from sklearn.metrics import r2_score\n",
    "def maxr2_score(regr,x,y):\n",
    "    max_r_score=0\n",
    "    for r_state in range(42,101):\n",
    "        x_train,x_test,y_train,y_test=train_test_split(x,y,random_state=r_state,test_size=0.20)\n",
    "        regr.fit(x_train,y_train)\n",
    "        y_pred=regr.predict(x_test)\n",
    "        r2_scr=r2_score(y_test,y_pred)\n",
    "        #print('r2_score corresponding to random state: ',r_state,\"is:\",r2_scr)\n",
    "        if r2_scr>max_r_score:\n",
    "            max_r_score=r2_scr\n",
    "            final_r_state=r_state\n",
    "    print('\\n\\nmax r2 score corresponding to random state:',final_r_state,\"is\",max_r_score)\n",
    "    return final_r_state"
   ]
  },
  {
   "cell_type": "code",
   "execution_count": 34,
   "metadata": {},
   "outputs": [
    {
     "name": "stdout",
     "output_type": "stream",
     "text": [
      "\n",
      "\n",
      "max r2 score corresponding to random state: 67 is 0.2037365006624321\n"
     ]
    }
   ],
   "source": [
    "#lets use linear regression and check max  r2 score corresponding to different random states\n",
    "from sklearn.linear_model import LinearRegression\n",
    "lreg=LinearRegression()\n",
    "r_state=maxr2_score(lreg,x,y)\n"
   ]
  },
  {
   "cell_type": "code",
   "execution_count": 35,
   "metadata": {},
   "outputs": [
    {
     "data": {
      "text/plain": [
       "{'n_neighbors': 10}"
      ]
     },
     "execution_count": 35,
     "metadata": {},
     "output_type": "execute_result"
    }
   ],
   "source": [
    "#lets use grid_search to find optimal value of n_neigbors for KNN model\n",
    "from sklearn.model_selection import GridSearchCV\n",
    "from sklearn.neighbors import KNeighborsRegressor\n",
    "neighbors={'n_neighbors':range(1,30)}\n",
    "knr=KNeighborsRegressor()\n",
    "gknr=GridSearchCV(knr,neighbors,cv=10)\n",
    "gknr.fit(x,y)\n",
    "gknr.best_params_"
   ]
  },
  {
   "cell_type": "code",
   "execution_count": 36,
   "metadata": {},
   "outputs": [
    {
     "name": "stdout",
     "output_type": "stream",
     "text": [
      "\n",
      "\n",
      "max r2 score corresponding to random state: 94 is 0.48590493680769375\n"
     ]
    }
   ],
   "source": [
    "#lets use KNN Regression and check max r2 score corresponding to different random states\n",
    "knr=KNeighborsRegressor(n_neighbors=10)\n",
    "r_state=maxr2_score(knr,x,y)"
   ]
  },
  {
   "cell_type": "code",
   "execution_count": 37,
   "metadata": {},
   "outputs": [
    {
     "name": "stdout",
     "output_type": "stream",
     "text": [
      "Mean r2 score for linear regression :  0.1508780396161174\n",
      "Standard deviation in r2 score for Linear Regression :  0.026079467103742142\n",
      "\n",
      "\n",
      " Mean r2 score for KNN Regression :  0.4137258190867675\n",
      "Standard deviation in r2 score for KNN Regression :  0.02507741978207185\n"
     ]
    }
   ],
   "source": [
    "#lets check the mean r2 score of both linear regression model and knn regression\n",
    "from sklearn.model_selection import cross_val_score\n",
    "print('Mean r2 score for linear regression : ',cross_val_score(lreg,x,y,cv=5,scoring='r2').mean())\n",
    "print('Standard deviation in r2 score for Linear Regression : ',cross_val_score(lreg,x,y,cv=5,scoring='r2').std())\n",
    "print('\\n\\n Mean r2 score for KNN Regression : ',cross_val_score(knr,x,y,cv=5,scoring='r2').mean())\n",
    "print('Standard deviation in r2 score for KNN Regression : ',cross_val_score(knr,x,y,cv=5,scoring='r2').std())"
   ]
  },
  {
   "cell_type": "code",
   "execution_count": 38,
   "metadata": {},
   "outputs": [
    {
     "data": {
      "text/plain": [
       "{'alpha': 1}"
      ]
     },
     "execution_count": 38,
     "metadata": {},
     "output_type": "execute_result"
    }
   ],
   "source": [
    "#lets check Lasso regression and find best value of alpha\n",
    "from sklearn.linear_model import Lasso\n",
    "lsreg=Lasso()\n",
    "parameters={'alpha':[0.001,0.01,0.1,1]}\n",
    "clf=GridSearchCV(lsreg,parameters,cv=10)\n",
    "clf.fit(x,y)\n",
    "clf.best_params_"
   ]
  },
  {
   "cell_type": "code",
   "execution_count": 39,
   "metadata": {},
   "outputs": [
    {
     "name": "stdout",
     "output_type": "stream",
     "text": [
      "\n",
      "\n",
      "max r2 score corresponding to random state: 67 is 0.20373625246996407\n"
     ]
    }
   ],
   "source": [
    "#lets check max r2 score when we use lasso\n",
    "lsreg=Lasso(alpha=0.001)\n",
    "r_state=maxr2_score(lsreg,x,y)"
   ]
  },
  {
   "cell_type": "code",
   "execution_count": 40,
   "metadata": {},
   "outputs": [
    {
     "name": "stdout",
     "output_type": "stream",
     "text": [
      "Mean r2 score for lasso regression :  0.15087814340628225\n",
      "standard deviation for lasso ragression :  0.026079154265018493\n"
     ]
    }
   ],
   "source": [
    "#lets use cross val score with lasso\n",
    "print(\"Mean r2 score for lasso regression : \",cross_val_score(lsreg,x,y,cv=5,scoring='r2').mean())\n",
    "print('standard deviation for lasso ragression : ',cross_val_score(lsreg,x,y,scoring='r2').std())"
   ]
  },
  {
   "cell_type": "code",
   "execution_count": 41,
   "metadata": {},
   "outputs": [
    {
     "data": {
      "text/plain": [
       "{'learning_rate': 0.1, 'n_estimators': 500}"
      ]
     },
     "execution_count": 41,
     "metadata": {},
     "output_type": "execute_result"
    }
   ],
   "source": [
    "#now we will try to use gradient boosting technique\n",
    "#for getting best set of parameter we will use grid search\n",
    "from sklearn.ensemble import GradientBoostingRegressor\n",
    "import warnings\n",
    "warnings.filterwarnings('ignore')\n",
    "gbr=GradientBoostingRegressor()\n",
    "parameters={'learning_rate':[0.001,0.01,0.1,1],'n_estimators':[10,100,500,1000]}\n",
    "clf=GridSearchCV(gbr,parameters,cv=5)\n",
    "clf.fit(x,y)\n",
    "clf.best_params_"
   ]
  },
  {
   "cell_type": "code",
   "execution_count": 42,
   "metadata": {},
   "outputs": [
    {
     "name": "stdout",
     "output_type": "stream",
     "text": [
      "Mean r2 score for gradient boosting Regrssion :  0.7222024000106424\n",
      "Standard Deviation r2 score for gradient boosting Regrssion :  0.039690378359270286\n"
     ]
    }
   ],
   "source": [
    "#now we will use cross val score to check the mean r2 score and standard deviation\n",
    "gbr=GradientBoostingRegressor(learning_rate=0.1,n_estimators=500)\n",
    "print('Mean r2 score for gradient boosting Regrssion : ',cross_val_score(gbr,x,y,cv=5,scoring='r2').mean())\n",
    "print('Standard Deviation r2 score for gradient boosting Regrssion : ',cross_val_score(gbr,x,y,cv=5,scoring='r2').std())"
   ]
  },
  {
   "cell_type": "code",
   "execution_count": 43,
   "metadata": {},
   "outputs": [],
   "source": [
    "# we tried all the model and till now n_neigbors regression is the best\n",
    "#random state corresponding to highest r2_score is 94\n",
    "x_train,x_test,y_train,y_test=train_test_split(x,y,random_state=54,test_size=0.20)\n",
    "knr=KNeighborsRegressor(n_neighbors=10)\n",
    "knr.fit(x,y)\n",
    "y_pred=lreg.predict(x_test)"
   ]
  },
  {
   "cell_type": "code",
   "execution_count": 44,
   "metadata": {},
   "outputs": [
    {
     "name": "stdout",
     "output_type": "stream",
     "text": [
      "RMSE is :  570.016737820171\n",
      "r2_score is :  0.11112162256289015\n"
     ]
    }
   ],
   "source": [
    "#lets find the rmse and r2_score using sklearn.metrics\n",
    "import numpy as np\n",
    "from sklearn.metrics import r2_score\n",
    "from sklearn.metrics import mean_squared_error\n",
    "print(\"RMSE is : \",np.sqrt(mean_squared_error(y_test,y_pred)))\n",
    "print('r2_score is : ',r2_score(y_test,y_pred))"
   ]
  },
  {
   "cell_type": "code",
   "execution_count": 46,
   "metadata": {},
   "outputs": [
    {
     "data": {
      "text/plain": [
       "['Predicting Restaurant Food Cost_model.pkl']"
      ]
     },
     "execution_count": 46,
     "metadata": {},
     "output_type": "execute_result"
    }
   ],
   "source": [
    "from sklearn.externals import joblib\n",
    "joblib.dump(lreg,'Predicting Restaurant Food Cost_model.pkl')"
   ]
  },
  {
   "cell_type": "code",
   "execution_count": 47,
   "metadata": {},
   "outputs": [],
   "source": [
    "model=joblib.load('Predicting Restaurant Food Cost_model.pkl')"
   ]
  },
  {
   "cell_type": "code",
   "execution_count": 48,
   "metadata": {},
   "outputs": [],
   "source": [
    "result=pd.DataFrame(model.predict(test_set))"
   ]
  },
  {
   "cell_type": "code",
   "execution_count": 49,
   "metadata": {},
   "outputs": [],
   "source": [
    "result.to_csv('RestaurantFoodCostprdictresults.csv')"
   ]
  },
  {
   "cell_type": "code",
   "execution_count": null,
   "metadata": {},
   "outputs": [],
   "source": []
  }
 ],
 "metadata": {
  "kernelspec": {
   "display_name": "Python 3",
   "language": "python",
   "name": "python3"
  },
  "language_info": {
   "codemirror_mode": {
    "name": "ipython",
    "version": 3
   },
   "file_extension": ".py",
   "mimetype": "text/x-python",
   "name": "python",
   "nbconvert_exporter": "python",
   "pygments_lexer": "ipython3",
   "version": "3.7.6"
  }
 },
 "nbformat": 4,
 "nbformat_minor": 4
}
