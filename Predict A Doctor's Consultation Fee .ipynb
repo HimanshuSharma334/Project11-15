{
 "cells": [
  {
   "cell_type": "markdown",
   "metadata": {},
   "source": [
    "# Predict A Doctor's Consultation Fee \n",
    "\n",
    "\n",
    "\n",
    "We have all been in situation where we go to a doctor in emergency and find that the consultation fees are too high. As a data scientist we all should do better. What if you have data that records important details about a doctor and you get to build a model to predict the doctor’s consulting fee.? This is the hackathon that lets you do that.\n",
    "\n",
    "\n",
    "\n",
    "Size of training set: 5961 records\n",
    "\n",
    "Size of test set: 1987 records\n",
    "\n",
    "FEATURES:\n",
    "\n",
    "Qualification: Qualification and degrees held by the doctor\n",
    "\n",
    "Experience: Experience of the doctor in number of years\n",
    "\n",
    "Rating: Rating given by patients\n",
    "\n",
    "Profile: Type of the doctor\n",
    "\n",
    "Miscellaeous_Info: Extra information about the doctor\n",
    "\n",
    "Fees: Fees charged by the doctor\n",
    "\n",
    "Place: Area and the city where the doctor is located.\n",
    "\n",
    "\n",
    "\n",
    "https://github.com/dsrscientist/Data-Science-ML-Capstone-Projects\n",
    "\n"
   ]
  },
  {
   "cell_type": "code",
   "execution_count": 1,
   "metadata": {},
   "outputs": [],
   "source": [
    "import pandas as pd\n",
    "import numpy as np\n",
    "import matplotlib.pyplot as plt\n",
    "import seaborn as sns\n",
    "import warnings\n",
    "warnings.filterwarnings('ignore')"
   ]
  },
  {
   "cell_type": "code",
   "execution_count": 2,
   "metadata": {},
   "outputs": [],
   "source": [
    "train = pd.read_excel('Final_Train.xlsx')\n",
    "test = pd.read_excel('Final_Test.xlsx')"
   ]
  },
  {
   "cell_type": "code",
   "execution_count": 3,
   "metadata": {},
   "outputs": [
    {
     "data": {
      "text/html": [
       "<div>\n",
       "<style scoped>\n",
       "    .dataframe tbody tr th:only-of-type {\n",
       "        vertical-align: middle;\n",
       "    }\n",
       "\n",
       "    .dataframe tbody tr th {\n",
       "        vertical-align: top;\n",
       "    }\n",
       "\n",
       "    .dataframe thead th {\n",
       "        text-align: right;\n",
       "    }\n",
       "</style>\n",
       "<table border=\"1\" class=\"dataframe\">\n",
       "  <thead>\n",
       "    <tr style=\"text-align: right;\">\n",
       "      <th></th>\n",
       "      <th>Qualification</th>\n",
       "      <th>Experience</th>\n",
       "      <th>Rating</th>\n",
       "      <th>Place</th>\n",
       "      <th>Profile</th>\n",
       "      <th>Miscellaneous_Info</th>\n",
       "      <th>Fees</th>\n",
       "    </tr>\n",
       "  </thead>\n",
       "  <tbody>\n",
       "    <tr>\n",
       "      <th>0</th>\n",
       "      <td>BHMS, MD - Homeopathy</td>\n",
       "      <td>24 years experience</td>\n",
       "      <td>100%</td>\n",
       "      <td>Kakkanad, Ernakulam</td>\n",
       "      <td>Homeopath</td>\n",
       "      <td>100% 16 Feedback Kakkanad, Ernakulam</td>\n",
       "      <td>100</td>\n",
       "    </tr>\n",
       "    <tr>\n",
       "      <th>1</th>\n",
       "      <td>BAMS, MD - Ayurveda Medicine</td>\n",
       "      <td>12 years experience</td>\n",
       "      <td>98%</td>\n",
       "      <td>Whitefield, Bangalore</td>\n",
       "      <td>Ayurveda</td>\n",
       "      <td>98% 76 Feedback Whitefield, Bangalore</td>\n",
       "      <td>350</td>\n",
       "    </tr>\n",
       "    <tr>\n",
       "      <th>2</th>\n",
       "      <td>MBBS, MS - Otorhinolaryngology</td>\n",
       "      <td>9 years experience</td>\n",
       "      <td>NaN</td>\n",
       "      <td>Mathikere - BEL, Bangalore</td>\n",
       "      <td>ENT Specialist</td>\n",
       "      <td>NaN</td>\n",
       "      <td>300</td>\n",
       "    </tr>\n",
       "    <tr>\n",
       "      <th>3</th>\n",
       "      <td>BSc - Zoology, BAMS</td>\n",
       "      <td>12 years experience</td>\n",
       "      <td>NaN</td>\n",
       "      <td>Bannerghatta Road, Bangalore</td>\n",
       "      <td>Ayurveda</td>\n",
       "      <td>Bannerghatta Road, Bangalore ₹250 Available on...</td>\n",
       "      <td>250</td>\n",
       "    </tr>\n",
       "    <tr>\n",
       "      <th>4</th>\n",
       "      <td>BAMS</td>\n",
       "      <td>20 years experience</td>\n",
       "      <td>100%</td>\n",
       "      <td>Keelkattalai, Chennai</td>\n",
       "      <td>Ayurveda</td>\n",
       "      <td>100% 4 Feedback Keelkattalai, Chennai</td>\n",
       "      <td>250</td>\n",
       "    </tr>\n",
       "  </tbody>\n",
       "</table>\n",
       "</div>"
      ],
      "text/plain": [
       "                    Qualification           Experience Rating  \\\n",
       "0           BHMS, MD - Homeopathy  24 years experience   100%   \n",
       "1    BAMS, MD - Ayurveda Medicine  12 years experience    98%   \n",
       "2  MBBS, MS - Otorhinolaryngology   9 years experience    NaN   \n",
       "3             BSc - Zoology, BAMS  12 years experience    NaN   \n",
       "4                            BAMS  20 years experience   100%   \n",
       "\n",
       "                          Place         Profile  \\\n",
       "0           Kakkanad, Ernakulam       Homeopath   \n",
       "1         Whitefield, Bangalore        Ayurveda   \n",
       "2    Mathikere - BEL, Bangalore  ENT Specialist   \n",
       "3  Bannerghatta Road, Bangalore        Ayurveda   \n",
       "4         Keelkattalai, Chennai        Ayurveda   \n",
       "\n",
       "                                  Miscellaneous_Info  Fees  \n",
       "0               100% 16 Feedback Kakkanad, Ernakulam   100  \n",
       "1              98% 76 Feedback Whitefield, Bangalore   350  \n",
       "2                                                NaN   300  \n",
       "3  Bannerghatta Road, Bangalore ₹250 Available on...   250  \n",
       "4              100% 4 Feedback Keelkattalai, Chennai   250  "
      ]
     },
     "execution_count": 3,
     "metadata": {},
     "output_type": "execute_result"
    }
   ],
   "source": [
    "train.head()"
   ]
  },
  {
   "cell_type": "code",
   "execution_count": 4,
   "metadata": {},
   "outputs": [
    {
     "name": "stdout",
     "output_type": "stream",
     "text": [
      "<class 'pandas.core.frame.DataFrame'>\n",
      "RangeIndex: 5961 entries, 0 to 5960\n",
      "Data columns (total 7 columns):\n",
      " #   Column              Non-Null Count  Dtype \n",
      "---  ------              --------------  ----- \n",
      " 0   Qualification       5961 non-null   object\n",
      " 1   Experience          5961 non-null   object\n",
      " 2   Rating              2659 non-null   object\n",
      " 3   Place               5936 non-null   object\n",
      " 4   Profile             5961 non-null   object\n",
      " 5   Miscellaneous_Info  3341 non-null   object\n",
      " 6   Fees                5961 non-null   int64 \n",
      "dtypes: int64(1), object(6)\n",
      "memory usage: 326.1+ KB\n"
     ]
    }
   ],
   "source": [
    "train.info()"
   ]
  },
  {
   "cell_type": "code",
   "execution_count": 5,
   "metadata": {},
   "outputs": [
    {
     "data": {
      "text/plain": [
       "Qualification            0\n",
       "Experience               0\n",
       "Rating                3302\n",
       "Place                   25\n",
       "Profile                  0\n",
       "Miscellaneous_Info    2620\n",
       "Fees                     0\n",
       "dtype: int64"
      ]
     },
     "execution_count": 5,
     "metadata": {},
     "output_type": "execute_result"
    }
   ],
   "source": [
    "train.isnull().sum()"
   ]
  },
  {
   "cell_type": "code",
   "execution_count": 6,
   "metadata": {},
   "outputs": [
    {
     "data": {
      "text/plain": [
       "(5961, 7)"
      ]
     },
     "execution_count": 6,
     "metadata": {},
     "output_type": "execute_result"
    }
   ],
   "source": [
    "train.shape"
   ]
  },
  {
   "cell_type": "code",
   "execution_count": 7,
   "metadata": {},
   "outputs": [
    {
     "data": {
      "text/html": [
       "<div>\n",
       "<style scoped>\n",
       "    .dataframe tbody tr th:only-of-type {\n",
       "        vertical-align: middle;\n",
       "    }\n",
       "\n",
       "    .dataframe tbody tr th {\n",
       "        vertical-align: top;\n",
       "    }\n",
       "\n",
       "    .dataframe thead th {\n",
       "        text-align: right;\n",
       "    }\n",
       "</style>\n",
       "<table border=\"1\" class=\"dataframe\">\n",
       "  <thead>\n",
       "    <tr style=\"text-align: right;\">\n",
       "      <th></th>\n",
       "      <th>Qualification</th>\n",
       "      <th>Experience</th>\n",
       "      <th>Rating</th>\n",
       "      <th>Place</th>\n",
       "      <th>Profile</th>\n",
       "      <th>Miscellaneous_Info</th>\n",
       "    </tr>\n",
       "  </thead>\n",
       "  <tbody>\n",
       "    <tr>\n",
       "      <th>0</th>\n",
       "      <td>MBBS</td>\n",
       "      <td>35 years experience</td>\n",
       "      <td>NaN</td>\n",
       "      <td>Ghatkopar East, Mumbai</td>\n",
       "      <td>General Medicine</td>\n",
       "      <td>NaN</td>\n",
       "    </tr>\n",
       "    <tr>\n",
       "      <th>1</th>\n",
       "      <td>MBBS, Diploma in Otorhinolaryngology (DLO)</td>\n",
       "      <td>31 years experience</td>\n",
       "      <td>NaN</td>\n",
       "      <td>West Marredpally, Hyderabad</td>\n",
       "      <td>ENT Specialist</td>\n",
       "      <td>NaN</td>\n",
       "    </tr>\n",
       "    <tr>\n",
       "      <th>2</th>\n",
       "      <td>MBBS, DDVL</td>\n",
       "      <td>40 years experience</td>\n",
       "      <td>70%</td>\n",
       "      <td>KK Nagar, Chennai</td>\n",
       "      <td>Dermatologists</td>\n",
       "      <td>70% 4 Feedback KK Nagar, Chennai</td>\n",
       "    </tr>\n",
       "    <tr>\n",
       "      <th>3</th>\n",
       "      <td>BAMS</td>\n",
       "      <td>0 years experience</td>\n",
       "      <td>NaN</td>\n",
       "      <td>New Ashok Nagar, Delhi</td>\n",
       "      <td>Ayurveda</td>\n",
       "      <td>NaN</td>\n",
       "    </tr>\n",
       "    <tr>\n",
       "      <th>4</th>\n",
       "      <td>BDS, MDS - Conservative Dentistry &amp; Endodontics</td>\n",
       "      <td>16 years experience</td>\n",
       "      <td>100%</td>\n",
       "      <td>Kanakpura Road, Bangalore</td>\n",
       "      <td>Dentist</td>\n",
       "      <td>General Dentistry Conservative Dentistry Cosme...</td>\n",
       "    </tr>\n",
       "  </tbody>\n",
       "</table>\n",
       "</div>"
      ],
      "text/plain": [
       "                                     Qualification           Experience  \\\n",
       "0                                             MBBS  35 years experience   \n",
       "1       MBBS, Diploma in Otorhinolaryngology (DLO)  31 years experience   \n",
       "2                                       MBBS, DDVL  40 years experience   \n",
       "3                                             BAMS   0 years experience   \n",
       "4  BDS, MDS - Conservative Dentistry & Endodontics  16 years experience   \n",
       "\n",
       "  Rating                        Place           Profile  \\\n",
       "0    NaN       Ghatkopar East, Mumbai  General Medicine   \n",
       "1    NaN  West Marredpally, Hyderabad    ENT Specialist   \n",
       "2    70%            KK Nagar, Chennai    Dermatologists   \n",
       "3    NaN       New Ashok Nagar, Delhi          Ayurveda   \n",
       "4   100%    Kanakpura Road, Bangalore           Dentist   \n",
       "\n",
       "                                  Miscellaneous_Info  \n",
       "0                                                NaN  \n",
       "1                                                NaN  \n",
       "2                   70% 4 Feedback KK Nagar, Chennai  \n",
       "3                                                NaN  \n",
       "4  General Dentistry Conservative Dentistry Cosme...  "
      ]
     },
     "execution_count": 7,
     "metadata": {},
     "output_type": "execute_result"
    }
   ],
   "source": [
    "test.head()"
   ]
  },
  {
   "cell_type": "code",
   "execution_count": 8,
   "metadata": {},
   "outputs": [
    {
     "name": "stdout",
     "output_type": "stream",
     "text": [
      "<class 'pandas.core.frame.DataFrame'>\n",
      "RangeIndex: 1987 entries, 0 to 1986\n",
      "Data columns (total 6 columns):\n",
      " #   Column              Non-Null Count  Dtype \n",
      "---  ------              --------------  ----- \n",
      " 0   Qualification       1987 non-null   object\n",
      " 1   Experience          1987 non-null   object\n",
      " 2   Rating              897 non-null    object\n",
      " 3   Place               1981 non-null   object\n",
      " 4   Profile             1987 non-null   object\n",
      " 5   Miscellaneous_Info  1153 non-null   object\n",
      "dtypes: object(6)\n",
      "memory usage: 93.3+ KB\n"
     ]
    }
   ],
   "source": [
    "test.info()"
   ]
  },
  {
   "cell_type": "code",
   "execution_count": 9,
   "metadata": {},
   "outputs": [
    {
     "data": {
      "text/plain": [
       "Qualification            0\n",
       "Experience               0\n",
       "Rating                1090\n",
       "Place                    6\n",
       "Profile                  0\n",
       "Miscellaneous_Info     834\n",
       "dtype: int64"
      ]
     },
     "execution_count": 9,
     "metadata": {},
     "output_type": "execute_result"
    }
   ],
   "source": [
    "test.isnull().sum()"
   ]
  },
  {
   "cell_type": "code",
   "execution_count": 10,
   "metadata": {},
   "outputs": [
    {
     "data": {
      "text/plain": [
       "(1987, 6)"
      ]
     },
     "execution_count": 10,
     "metadata": {},
     "output_type": "execute_result"
    }
   ],
   "source": [
    "test.shape"
   ]
  },
  {
   "cell_type": "code",
   "execution_count": 11,
   "metadata": {},
   "outputs": [],
   "source": [
    "DoctorDF=train.append(test)"
   ]
  },
  {
   "cell_type": "code",
   "execution_count": 12,
   "metadata": {},
   "outputs": [
    {
     "data": {
      "text/plain": [
       "(7948, 7)"
      ]
     },
     "execution_count": 12,
     "metadata": {},
     "output_type": "execute_result"
    }
   ],
   "source": [
    "DoctorDF.shape"
   ]
  },
  {
   "cell_type": "code",
   "execution_count": 13,
   "metadata": {},
   "outputs": [
    {
     "data": {
      "text/plain": [
       "Qualification            0\n",
       "Experience               0\n",
       "Rating                4392\n",
       "Place                   31\n",
       "Profile                  0\n",
       "Miscellaneous_Info    3454\n",
       "Fees                  1987\n",
       "dtype: int64"
      ]
     },
     "execution_count": 13,
     "metadata": {},
     "output_type": "execute_result"
    }
   ],
   "source": [
    "DoctorDF.isnull().sum()"
   ]
  },
  {
   "cell_type": "code",
   "execution_count": 14,
   "metadata": {},
   "outputs": [],
   "source": [
    "DoctorDF['Rating'].fillna('0%', inplace=True)\n",
    "\n",
    "DoctorDF['Place'].fillna('Unknown,Unknown', inplace=True)\n",
    "\n",
    "DoctorDF['Miscellaneous_Info'].fillna('Unknown', inplace=True)\n",
    "\n",
    "DoctorDF['Fees'].fillna('0', inplace=True)\n"
   ]
  },
  {
   "cell_type": "code",
   "execution_count": 15,
   "metadata": {},
   "outputs": [
    {
     "data": {
      "text/plain": [
       "Qualification         0\n",
       "Experience            0\n",
       "Rating                0\n",
       "Place                 0\n",
       "Profile               0\n",
       "Miscellaneous_Info    0\n",
       "Fees                  0\n",
       "dtype: int64"
      ]
     },
     "execution_count": 15,
     "metadata": {},
     "output_type": "execute_result"
    }
   ],
   "source": [
    "DoctorDF.isnull().sum()"
   ]
  },
  {
   "cell_type": "code",
   "execution_count": 16,
   "metadata": {},
   "outputs": [],
   "source": [
    "DoctorDF[\"Experience\"] =DoctorDF[\"Experience\"].str.split()\n",
    "DoctorDF[\"Experience\"] = DoctorDF[\"Experience\"].str[0].astype(\"int\")"
   ]
  },
  {
   "cell_type": "code",
   "execution_count": 17,
   "metadata": {},
   "outputs": [
    {
     "data": {
      "text/html": [
       "<div>\n",
       "<style scoped>\n",
       "    .dataframe tbody tr th:only-of-type {\n",
       "        vertical-align: middle;\n",
       "    }\n",
       "\n",
       "    .dataframe tbody tr th {\n",
       "        vertical-align: top;\n",
       "    }\n",
       "\n",
       "    .dataframe thead th {\n",
       "        text-align: right;\n",
       "    }\n",
       "</style>\n",
       "<table border=\"1\" class=\"dataframe\">\n",
       "  <thead>\n",
       "    <tr style=\"text-align: right;\">\n",
       "      <th></th>\n",
       "      <th>Qualification</th>\n",
       "      <th>Experience</th>\n",
       "      <th>Rating</th>\n",
       "      <th>Place</th>\n",
       "      <th>Profile</th>\n",
       "      <th>Miscellaneous_Info</th>\n",
       "      <th>Fees</th>\n",
       "    </tr>\n",
       "  </thead>\n",
       "  <tbody>\n",
       "    <tr>\n",
       "      <th>0</th>\n",
       "      <td>BHMS, MD - Homeopathy</td>\n",
       "      <td>24</td>\n",
       "      <td>100%</td>\n",
       "      <td>Kakkanad, Ernakulam</td>\n",
       "      <td>Homeopath</td>\n",
       "      <td>100% 16 Feedback Kakkanad, Ernakulam</td>\n",
       "      <td>100</td>\n",
       "    </tr>\n",
       "    <tr>\n",
       "      <th>1</th>\n",
       "      <td>BAMS, MD - Ayurveda Medicine</td>\n",
       "      <td>12</td>\n",
       "      <td>98%</td>\n",
       "      <td>Whitefield, Bangalore</td>\n",
       "      <td>Ayurveda</td>\n",
       "      <td>98% 76 Feedback Whitefield, Bangalore</td>\n",
       "      <td>350</td>\n",
       "    </tr>\n",
       "    <tr>\n",
       "      <th>2</th>\n",
       "      <td>MBBS, MS - Otorhinolaryngology</td>\n",
       "      <td>9</td>\n",
       "      <td>0%</td>\n",
       "      <td>Mathikere - BEL, Bangalore</td>\n",
       "      <td>ENT Specialist</td>\n",
       "      <td>Unknown</td>\n",
       "      <td>300</td>\n",
       "    </tr>\n",
       "    <tr>\n",
       "      <th>3</th>\n",
       "      <td>BSc - Zoology, BAMS</td>\n",
       "      <td>12</td>\n",
       "      <td>0%</td>\n",
       "      <td>Bannerghatta Road, Bangalore</td>\n",
       "      <td>Ayurveda</td>\n",
       "      <td>Bannerghatta Road, Bangalore ₹250 Available on...</td>\n",
       "      <td>250</td>\n",
       "    </tr>\n",
       "    <tr>\n",
       "      <th>4</th>\n",
       "      <td>BAMS</td>\n",
       "      <td>20</td>\n",
       "      <td>100%</td>\n",
       "      <td>Keelkattalai, Chennai</td>\n",
       "      <td>Ayurveda</td>\n",
       "      <td>100% 4 Feedback Keelkattalai, Chennai</td>\n",
       "      <td>250</td>\n",
       "    </tr>\n",
       "  </tbody>\n",
       "</table>\n",
       "</div>"
      ],
      "text/plain": [
       "                    Qualification  Experience Rating  \\\n",
       "0           BHMS, MD - Homeopathy          24   100%   \n",
       "1    BAMS, MD - Ayurveda Medicine          12    98%   \n",
       "2  MBBS, MS - Otorhinolaryngology           9     0%   \n",
       "3             BSc - Zoology, BAMS          12     0%   \n",
       "4                            BAMS          20   100%   \n",
       "\n",
       "                          Place         Profile  \\\n",
       "0           Kakkanad, Ernakulam       Homeopath   \n",
       "1         Whitefield, Bangalore        Ayurveda   \n",
       "2    Mathikere - BEL, Bangalore  ENT Specialist   \n",
       "3  Bannerghatta Road, Bangalore        Ayurveda   \n",
       "4         Keelkattalai, Chennai        Ayurveda   \n",
       "\n",
       "                                  Miscellaneous_Info Fees  \n",
       "0               100% 16 Feedback Kakkanad, Ernakulam  100  \n",
       "1              98% 76 Feedback Whitefield, Bangalore  350  \n",
       "2                                            Unknown  300  \n",
       "3  Bannerghatta Road, Bangalore ₹250 Available on...  250  \n",
       "4              100% 4 Feedback Keelkattalai, Chennai  250  "
      ]
     },
     "execution_count": 17,
     "metadata": {},
     "output_type": "execute_result"
    }
   ],
   "source": [
    "DoctorDF.head()"
   ]
  },
  {
   "cell_type": "code",
   "execution_count": 18,
   "metadata": {},
   "outputs": [],
   "source": [
    "#DoctorDF[\"Place\"].fillna(\"Unknown,Unknown\",inplace=True)\n",
    "DoctorDF[\"Place\"] = DoctorDF[\"Place\"].str.split(\",\")\n",
    "DoctorDF[\"City\"] = DoctorDF[\"Place\"].str[-1]\n",
    "DoctorDF[\"Place\"] = DoctorDF[\"Place\"].str[0]"
   ]
  },
  {
   "cell_type": "code",
   "execution_count": 19,
   "metadata": {},
   "outputs": [
    {
     "data": {
      "text/html": [
       "<div>\n",
       "<style scoped>\n",
       "    .dataframe tbody tr th:only-of-type {\n",
       "        vertical-align: middle;\n",
       "    }\n",
       "\n",
       "    .dataframe tbody tr th {\n",
       "        vertical-align: top;\n",
       "    }\n",
       "\n",
       "    .dataframe thead th {\n",
       "        text-align: right;\n",
       "    }\n",
       "</style>\n",
       "<table border=\"1\" class=\"dataframe\">\n",
       "  <thead>\n",
       "    <tr style=\"text-align: right;\">\n",
       "      <th></th>\n",
       "      <th>Qualification</th>\n",
       "      <th>Experience</th>\n",
       "      <th>Rating</th>\n",
       "      <th>Place</th>\n",
       "      <th>Profile</th>\n",
       "      <th>Miscellaneous_Info</th>\n",
       "      <th>Fees</th>\n",
       "      <th>City</th>\n",
       "    </tr>\n",
       "  </thead>\n",
       "  <tbody>\n",
       "    <tr>\n",
       "      <th>0</th>\n",
       "      <td>BHMS, MD - Homeopathy</td>\n",
       "      <td>24</td>\n",
       "      <td>100%</td>\n",
       "      <td>Kakkanad</td>\n",
       "      <td>Homeopath</td>\n",
       "      <td>100% 16 Feedback Kakkanad, Ernakulam</td>\n",
       "      <td>100</td>\n",
       "      <td>Ernakulam</td>\n",
       "    </tr>\n",
       "    <tr>\n",
       "      <th>1</th>\n",
       "      <td>BAMS, MD - Ayurveda Medicine</td>\n",
       "      <td>12</td>\n",
       "      <td>98%</td>\n",
       "      <td>Whitefield</td>\n",
       "      <td>Ayurveda</td>\n",
       "      <td>98% 76 Feedback Whitefield, Bangalore</td>\n",
       "      <td>350</td>\n",
       "      <td>Bangalore</td>\n",
       "    </tr>\n",
       "    <tr>\n",
       "      <th>2</th>\n",
       "      <td>MBBS, MS - Otorhinolaryngology</td>\n",
       "      <td>9</td>\n",
       "      <td>0%</td>\n",
       "      <td>Mathikere - BEL</td>\n",
       "      <td>ENT Specialist</td>\n",
       "      <td>Unknown</td>\n",
       "      <td>300</td>\n",
       "      <td>Bangalore</td>\n",
       "    </tr>\n",
       "    <tr>\n",
       "      <th>3</th>\n",
       "      <td>BSc - Zoology, BAMS</td>\n",
       "      <td>12</td>\n",
       "      <td>0%</td>\n",
       "      <td>Bannerghatta Road</td>\n",
       "      <td>Ayurveda</td>\n",
       "      <td>Bannerghatta Road, Bangalore ₹250 Available on...</td>\n",
       "      <td>250</td>\n",
       "      <td>Bangalore</td>\n",
       "    </tr>\n",
       "    <tr>\n",
       "      <th>4</th>\n",
       "      <td>BAMS</td>\n",
       "      <td>20</td>\n",
       "      <td>100%</td>\n",
       "      <td>Keelkattalai</td>\n",
       "      <td>Ayurveda</td>\n",
       "      <td>100% 4 Feedback Keelkattalai, Chennai</td>\n",
       "      <td>250</td>\n",
       "      <td>Chennai</td>\n",
       "    </tr>\n",
       "    <tr>\n",
       "      <th>5</th>\n",
       "      <td>BAMS</td>\n",
       "      <td>8</td>\n",
       "      <td>0%</td>\n",
       "      <td>Porur</td>\n",
       "      <td>Ayurveda</td>\n",
       "      <td>Unknown</td>\n",
       "      <td>100</td>\n",
       "      <td>Chennai</td>\n",
       "    </tr>\n",
       "    <tr>\n",
       "      <th>6</th>\n",
       "      <td>BHMS</td>\n",
       "      <td>42</td>\n",
       "      <td>0%</td>\n",
       "      <td>Karol Bagh</td>\n",
       "      <td>Homeopath</td>\n",
       "      <td>Unknown</td>\n",
       "      <td>200</td>\n",
       "      <td>Delhi</td>\n",
       "    </tr>\n",
       "    <tr>\n",
       "      <th>7</th>\n",
       "      <td>BDS</td>\n",
       "      <td>10</td>\n",
       "      <td>99%</td>\n",
       "      <td>Arekere</td>\n",
       "      <td>Dentist</td>\n",
       "      <td>Dental Fillings Crowns and Bridges Fixing Impa...</td>\n",
       "      <td>200</td>\n",
       "      <td>Bangalore</td>\n",
       "    </tr>\n",
       "    <tr>\n",
       "      <th>8</th>\n",
       "      <td>MBBS, MD - General Medicine</td>\n",
       "      <td>14</td>\n",
       "      <td>0%</td>\n",
       "      <td>Old City</td>\n",
       "      <td>General Medicine</td>\n",
       "      <td>Unknown</td>\n",
       "      <td>100</td>\n",
       "      <td>Hyderabad</td>\n",
       "    </tr>\n",
       "    <tr>\n",
       "      <th>9</th>\n",
       "      <td>BSc, BDS</td>\n",
       "      <td>23</td>\n",
       "      <td>0%</td>\n",
       "      <td>Athani</td>\n",
       "      <td>Dentist</td>\n",
       "      <td>Unknown</td>\n",
       "      <td>100</td>\n",
       "      <td>Ernakulam</td>\n",
       "    </tr>\n",
       "    <tr>\n",
       "      <th>10</th>\n",
       "      <td>MBBS, MS, DNB - ENT</td>\n",
       "      <td>5</td>\n",
       "      <td>0%</td>\n",
       "      <td>Thousand Lights</td>\n",
       "      <td>ENT Specialist</td>\n",
       "      <td>Unknown</td>\n",
       "      <td>700</td>\n",
       "      <td>Chennai</td>\n",
       "    </tr>\n",
       "    <tr>\n",
       "      <th>11</th>\n",
       "      <td>BAMS</td>\n",
       "      <td>7</td>\n",
       "      <td>0%</td>\n",
       "      <td>Somajiguda</td>\n",
       "      <td>Ayurveda</td>\n",
       "      <td>Unknown</td>\n",
       "      <td>100</td>\n",
       "      <td>Hyderabad</td>\n",
       "    </tr>\n",
       "    <tr>\n",
       "      <th>12</th>\n",
       "      <td>BDS, MDS</td>\n",
       "      <td>9</td>\n",
       "      <td>98%</td>\n",
       "      <td>Coimbatore Racecourse</td>\n",
       "      <td>Dentist</td>\n",
       "      <td>98% 14 Feedback Coimbatore Racecourse, Coimbatore</td>\n",
       "      <td>200</td>\n",
       "      <td>Coimbatore</td>\n",
       "    </tr>\n",
       "    <tr>\n",
       "      <th>13</th>\n",
       "      <td>BDS, MDS - Oral &amp; Maxillofacial Surgery</td>\n",
       "      <td>21</td>\n",
       "      <td>0%</td>\n",
       "      <td>Jubilee Hills</td>\n",
       "      <td>Dentist</td>\n",
       "      <td>Dental Crowns Facet Dental Dental prophylaxis</td>\n",
       "      <td>350</td>\n",
       "      <td>Hyderabad</td>\n",
       "    </tr>\n",
       "    <tr>\n",
       "      <th>14</th>\n",
       "      <td>MBBS, Diploma in Otorhinolaryngology (DLO), DN...</td>\n",
       "      <td>12</td>\n",
       "      <td>0%</td>\n",
       "      <td>Kondli</td>\n",
       "      <td>ENT Specialist</td>\n",
       "      <td>Unknown</td>\n",
       "      <td>500</td>\n",
       "      <td>Delhi</td>\n",
       "    </tr>\n",
       "    <tr>\n",
       "      <th>15</th>\n",
       "      <td>MBBS, MD - General Medicine</td>\n",
       "      <td>10</td>\n",
       "      <td>0%</td>\n",
       "      <td>Saroor Nagar</td>\n",
       "      <td>General Medicine</td>\n",
       "      <td>Unknown</td>\n",
       "      <td>200</td>\n",
       "      <td>Hyderabad</td>\n",
       "    </tr>\n",
       "    <tr>\n",
       "      <th>16</th>\n",
       "      <td>MBBS, Diploma in Otorhinolaryngology (DLO)</td>\n",
       "      <td>24</td>\n",
       "      <td>0%</td>\n",
       "      <td>Tambaram West</td>\n",
       "      <td>ENT Specialist</td>\n",
       "      <td>Unknown</td>\n",
       "      <td>100</td>\n",
       "      <td>Chennai</td>\n",
       "    </tr>\n",
       "    <tr>\n",
       "      <th>17</th>\n",
       "      <td>MBBS, MF- Homeopathy</td>\n",
       "      <td>5</td>\n",
       "      <td>0%</td>\n",
       "      <td>Purasawakkam</td>\n",
       "      <td>Homeopath</td>\n",
       "      <td>Unknown</td>\n",
       "      <td>300</td>\n",
       "      <td>Chennai</td>\n",
       "    </tr>\n",
       "    <tr>\n",
       "      <th>18</th>\n",
       "      <td>MBBS, MS - ENT</td>\n",
       "      <td>19</td>\n",
       "      <td>79%</td>\n",
       "      <td>KPHB</td>\n",
       "      <td>ENT Specialist</td>\n",
       "      <td>79% 8 Feedback KPHB, Hyderabad</td>\n",
       "      <td>400</td>\n",
       "      <td>Hyderabad</td>\n",
       "    </tr>\n",
       "    <tr>\n",
       "      <th>19</th>\n",
       "      <td>MBBS</td>\n",
       "      <td>19</td>\n",
       "      <td>100%</td>\n",
       "      <td>HSR Layout</td>\n",
       "      <td>General Medicine</td>\n",
       "      <td>100% 4 Feedback HSR Layout, Bangalore</td>\n",
       "      <td>150</td>\n",
       "      <td>Bangalore</td>\n",
       "    </tr>\n",
       "    <tr>\n",
       "      <th>20</th>\n",
       "      <td>MDS, DNB, BDS</td>\n",
       "      <td>21</td>\n",
       "      <td>100%</td>\n",
       "      <td>Pollachi</td>\n",
       "      <td>Dentist</td>\n",
       "      <td>100% 7 Feedback Pollachi, Coimbatore</td>\n",
       "      <td>100</td>\n",
       "      <td>Coimbatore</td>\n",
       "    </tr>\n",
       "    <tr>\n",
       "      <th>21</th>\n",
       "      <td>MBBS, DNB - ENT</td>\n",
       "      <td>14</td>\n",
       "      <td>0%</td>\n",
       "      <td>Vasundhra Enclave</td>\n",
       "      <td>ENT Specialist</td>\n",
       "      <td>Adenoid / Tonsil Surgery Rhinoplasty Laryngoscopy</td>\n",
       "      <td>500</td>\n",
       "      <td>Delhi</td>\n",
       "    </tr>\n",
       "    <tr>\n",
       "      <th>22</th>\n",
       "      <td>MBBS</td>\n",
       "      <td>41</td>\n",
       "      <td>0%</td>\n",
       "      <td>Chembur</td>\n",
       "      <td>General Medicine</td>\n",
       "      <td>Unknown</td>\n",
       "      <td>200</td>\n",
       "      <td>Mumbai</td>\n",
       "    </tr>\n",
       "    <tr>\n",
       "      <th>23</th>\n",
       "      <td>MBBS, Fellowship of College of General Practic...</td>\n",
       "      <td>31</td>\n",
       "      <td>0%</td>\n",
       "      <td>Thammanam</td>\n",
       "      <td>General Medicine</td>\n",
       "      <td>Unknown</td>\n",
       "      <td>100</td>\n",
       "      <td>Ernakulam</td>\n",
       "    </tr>\n",
       "    <tr>\n",
       "      <th>24</th>\n",
       "      <td>MBBS, DDVL</td>\n",
       "      <td>23</td>\n",
       "      <td>0%</td>\n",
       "      <td>Andheri</td>\n",
       "      <td>Dermatologists</td>\n",
       "      <td>Unknown</td>\n",
       "      <td>100</td>\n",
       "      <td>Mumbai</td>\n",
       "    </tr>\n",
       "  </tbody>\n",
       "</table>\n",
       "</div>"
      ],
      "text/plain": [
       "                                        Qualification  Experience Rating  \\\n",
       "0                               BHMS, MD - Homeopathy          24   100%   \n",
       "1                        BAMS, MD - Ayurveda Medicine          12    98%   \n",
       "2                      MBBS, MS - Otorhinolaryngology           9     0%   \n",
       "3                                 BSc - Zoology, BAMS          12     0%   \n",
       "4                                                BAMS          20   100%   \n",
       "5                                                BAMS           8     0%   \n",
       "6                                                BHMS          42     0%   \n",
       "7                                                 BDS          10    99%   \n",
       "8                         MBBS, MD - General Medicine          14     0%   \n",
       "9                                            BSc, BDS          23     0%   \n",
       "10                                MBBS, MS, DNB - ENT           5     0%   \n",
       "11                                               BAMS           7     0%   \n",
       "12                                           BDS, MDS           9    98%   \n",
       "13            BDS, MDS - Oral & Maxillofacial Surgery          21     0%   \n",
       "14  MBBS, Diploma in Otorhinolaryngology (DLO), DN...          12     0%   \n",
       "15                        MBBS, MD - General Medicine          10     0%   \n",
       "16         MBBS, Diploma in Otorhinolaryngology (DLO)          24     0%   \n",
       "17                               MBBS, MF- Homeopathy           5     0%   \n",
       "18                                     MBBS, MS - ENT          19    79%   \n",
       "19                                               MBBS          19   100%   \n",
       "20                                      MDS, DNB, BDS          21   100%   \n",
       "21                                    MBBS, DNB - ENT          14     0%   \n",
       "22                                               MBBS          41     0%   \n",
       "23  MBBS, Fellowship of College of General Practic...          31     0%   \n",
       "24                                         MBBS, DDVL          23     0%   \n",
       "\n",
       "                    Place           Profile  \\\n",
       "0                Kakkanad         Homeopath   \n",
       "1              Whitefield          Ayurveda   \n",
       "2         Mathikere - BEL    ENT Specialist   \n",
       "3       Bannerghatta Road          Ayurveda   \n",
       "4            Keelkattalai          Ayurveda   \n",
       "5                   Porur          Ayurveda   \n",
       "6              Karol Bagh         Homeopath   \n",
       "7                 Arekere           Dentist   \n",
       "8                Old City  General Medicine   \n",
       "9                  Athani           Dentist   \n",
       "10        Thousand Lights    ENT Specialist   \n",
       "11             Somajiguda          Ayurveda   \n",
       "12  Coimbatore Racecourse           Dentist   \n",
       "13          Jubilee Hills           Dentist   \n",
       "14                 Kondli    ENT Specialist   \n",
       "15           Saroor Nagar  General Medicine   \n",
       "16          Tambaram West    ENT Specialist   \n",
       "17           Purasawakkam         Homeopath   \n",
       "18                   KPHB    ENT Specialist   \n",
       "19             HSR Layout  General Medicine   \n",
       "20               Pollachi           Dentist   \n",
       "21      Vasundhra Enclave    ENT Specialist   \n",
       "22                Chembur  General Medicine   \n",
       "23              Thammanam  General Medicine   \n",
       "24                Andheri    Dermatologists   \n",
       "\n",
       "                                   Miscellaneous_Info Fees         City  \n",
       "0                100% 16 Feedback Kakkanad, Ernakulam  100    Ernakulam  \n",
       "1               98% 76 Feedback Whitefield, Bangalore  350    Bangalore  \n",
       "2                                             Unknown  300    Bangalore  \n",
       "3   Bannerghatta Road, Bangalore ₹250 Available on...  250    Bangalore  \n",
       "4               100% 4 Feedback Keelkattalai, Chennai  250      Chennai  \n",
       "5                                             Unknown  100      Chennai  \n",
       "6                                             Unknown  200        Delhi  \n",
       "7   Dental Fillings Crowns and Bridges Fixing Impa...  200    Bangalore  \n",
       "8                                             Unknown  100    Hyderabad  \n",
       "9                                             Unknown  100    Ernakulam  \n",
       "10                                            Unknown  700      Chennai  \n",
       "11                                            Unknown  100    Hyderabad  \n",
       "12  98% 14 Feedback Coimbatore Racecourse, Coimbatore  200   Coimbatore  \n",
       "13      Dental Crowns Facet Dental Dental prophylaxis  350    Hyderabad  \n",
       "14                                            Unknown  500        Delhi  \n",
       "15                                            Unknown  200    Hyderabad  \n",
       "16                                            Unknown  100      Chennai  \n",
       "17                                            Unknown  300      Chennai  \n",
       "18                     79% 8 Feedback KPHB, Hyderabad  400    Hyderabad  \n",
       "19              100% 4 Feedback HSR Layout, Bangalore  150    Bangalore  \n",
       "20               100% 7 Feedback Pollachi, Coimbatore  100   Coimbatore  \n",
       "21  Adenoid / Tonsil Surgery Rhinoplasty Laryngoscopy  500        Delhi  \n",
       "22                                            Unknown  200       Mumbai  \n",
       "23                                            Unknown  100    Ernakulam  \n",
       "24                                            Unknown  100       Mumbai  "
      ]
     },
     "execution_count": 19,
     "metadata": {},
     "output_type": "execute_result"
    }
   ],
   "source": [
    "DoctorDF.head(25)"
   ]
  },
  {
   "cell_type": "code",
   "execution_count": 20,
   "metadata": {},
   "outputs": [],
   "source": [
    "DoctorDF[\"Rating\"] = DoctorDF[\"Rating\"].str[:-1].astype(\"int\")\n",
    "bins = [-99,0,10,20,30,40,50,60,70,80,90,100]\n",
    "labels = [i for i in range(11)]\n",
    "DoctorDF[\"Rating\"] = pd.cut(DoctorDF[\"Rating\"],bins=bins,labels=labels,include_lowest=True)"
   ]
  },
  {
   "cell_type": "code",
   "execution_count": 21,
   "metadata": {},
   "outputs": [
    {
     "data": {
      "text/html": [
       "<div>\n",
       "<style scoped>\n",
       "    .dataframe tbody tr th:only-of-type {\n",
       "        vertical-align: middle;\n",
       "    }\n",
       "\n",
       "    .dataframe tbody tr th {\n",
       "        vertical-align: top;\n",
       "    }\n",
       "\n",
       "    .dataframe thead th {\n",
       "        text-align: right;\n",
       "    }\n",
       "</style>\n",
       "<table border=\"1\" class=\"dataframe\">\n",
       "  <thead>\n",
       "    <tr style=\"text-align: right;\">\n",
       "      <th></th>\n",
       "      <th>Qualification</th>\n",
       "      <th>Experience</th>\n",
       "      <th>Rating</th>\n",
       "      <th>Place</th>\n",
       "      <th>Profile</th>\n",
       "      <th>Miscellaneous_Info</th>\n",
       "      <th>Fees</th>\n",
       "      <th>City</th>\n",
       "    </tr>\n",
       "  </thead>\n",
       "  <tbody>\n",
       "    <tr>\n",
       "      <th>0</th>\n",
       "      <td>BHMS, MD - Homeopathy</td>\n",
       "      <td>24</td>\n",
       "      <td>10</td>\n",
       "      <td>Kakkanad</td>\n",
       "      <td>Homeopath</td>\n",
       "      <td>100% 16 Feedback Kakkanad, Ernakulam</td>\n",
       "      <td>100</td>\n",
       "      <td>Ernakulam</td>\n",
       "    </tr>\n",
       "    <tr>\n",
       "      <th>1</th>\n",
       "      <td>BAMS, MD - Ayurveda Medicine</td>\n",
       "      <td>12</td>\n",
       "      <td>10</td>\n",
       "      <td>Whitefield</td>\n",
       "      <td>Ayurveda</td>\n",
       "      <td>98% 76 Feedback Whitefield, Bangalore</td>\n",
       "      <td>350</td>\n",
       "      <td>Bangalore</td>\n",
       "    </tr>\n",
       "    <tr>\n",
       "      <th>2</th>\n",
       "      <td>MBBS, MS - Otorhinolaryngology</td>\n",
       "      <td>9</td>\n",
       "      <td>0</td>\n",
       "      <td>Mathikere - BEL</td>\n",
       "      <td>ENT Specialist</td>\n",
       "      <td>Unknown</td>\n",
       "      <td>300</td>\n",
       "      <td>Bangalore</td>\n",
       "    </tr>\n",
       "    <tr>\n",
       "      <th>3</th>\n",
       "      <td>BSc - Zoology, BAMS</td>\n",
       "      <td>12</td>\n",
       "      <td>0</td>\n",
       "      <td>Bannerghatta Road</td>\n",
       "      <td>Ayurveda</td>\n",
       "      <td>Bannerghatta Road, Bangalore ₹250 Available on...</td>\n",
       "      <td>250</td>\n",
       "      <td>Bangalore</td>\n",
       "    </tr>\n",
       "    <tr>\n",
       "      <th>4</th>\n",
       "      <td>BAMS</td>\n",
       "      <td>20</td>\n",
       "      <td>10</td>\n",
       "      <td>Keelkattalai</td>\n",
       "      <td>Ayurveda</td>\n",
       "      <td>100% 4 Feedback Keelkattalai, Chennai</td>\n",
       "      <td>250</td>\n",
       "      <td>Chennai</td>\n",
       "    </tr>\n",
       "    <tr>\n",
       "      <th>5</th>\n",
       "      <td>BAMS</td>\n",
       "      <td>8</td>\n",
       "      <td>0</td>\n",
       "      <td>Porur</td>\n",
       "      <td>Ayurveda</td>\n",
       "      <td>Unknown</td>\n",
       "      <td>100</td>\n",
       "      <td>Chennai</td>\n",
       "    </tr>\n",
       "    <tr>\n",
       "      <th>6</th>\n",
       "      <td>BHMS</td>\n",
       "      <td>42</td>\n",
       "      <td>0</td>\n",
       "      <td>Karol Bagh</td>\n",
       "      <td>Homeopath</td>\n",
       "      <td>Unknown</td>\n",
       "      <td>200</td>\n",
       "      <td>Delhi</td>\n",
       "    </tr>\n",
       "    <tr>\n",
       "      <th>7</th>\n",
       "      <td>BDS</td>\n",
       "      <td>10</td>\n",
       "      <td>10</td>\n",
       "      <td>Arekere</td>\n",
       "      <td>Dentist</td>\n",
       "      <td>Dental Fillings Crowns and Bridges Fixing Impa...</td>\n",
       "      <td>200</td>\n",
       "      <td>Bangalore</td>\n",
       "    </tr>\n",
       "    <tr>\n",
       "      <th>8</th>\n",
       "      <td>MBBS, MD - General Medicine</td>\n",
       "      <td>14</td>\n",
       "      <td>0</td>\n",
       "      <td>Old City</td>\n",
       "      <td>General Medicine</td>\n",
       "      <td>Unknown</td>\n",
       "      <td>100</td>\n",
       "      <td>Hyderabad</td>\n",
       "    </tr>\n",
       "    <tr>\n",
       "      <th>9</th>\n",
       "      <td>BSc, BDS</td>\n",
       "      <td>23</td>\n",
       "      <td>0</td>\n",
       "      <td>Athani</td>\n",
       "      <td>Dentist</td>\n",
       "      <td>Unknown</td>\n",
       "      <td>100</td>\n",
       "      <td>Ernakulam</td>\n",
       "    </tr>\n",
       "    <tr>\n",
       "      <th>10</th>\n",
       "      <td>MBBS, MS, DNB - ENT</td>\n",
       "      <td>5</td>\n",
       "      <td>0</td>\n",
       "      <td>Thousand Lights</td>\n",
       "      <td>ENT Specialist</td>\n",
       "      <td>Unknown</td>\n",
       "      <td>700</td>\n",
       "      <td>Chennai</td>\n",
       "    </tr>\n",
       "    <tr>\n",
       "      <th>11</th>\n",
       "      <td>BAMS</td>\n",
       "      <td>7</td>\n",
       "      <td>0</td>\n",
       "      <td>Somajiguda</td>\n",
       "      <td>Ayurveda</td>\n",
       "      <td>Unknown</td>\n",
       "      <td>100</td>\n",
       "      <td>Hyderabad</td>\n",
       "    </tr>\n",
       "    <tr>\n",
       "      <th>12</th>\n",
       "      <td>BDS, MDS</td>\n",
       "      <td>9</td>\n",
       "      <td>10</td>\n",
       "      <td>Coimbatore Racecourse</td>\n",
       "      <td>Dentist</td>\n",
       "      <td>98% 14 Feedback Coimbatore Racecourse, Coimbatore</td>\n",
       "      <td>200</td>\n",
       "      <td>Coimbatore</td>\n",
       "    </tr>\n",
       "    <tr>\n",
       "      <th>13</th>\n",
       "      <td>BDS, MDS - Oral &amp; Maxillofacial Surgery</td>\n",
       "      <td>21</td>\n",
       "      <td>0</td>\n",
       "      <td>Jubilee Hills</td>\n",
       "      <td>Dentist</td>\n",
       "      <td>Dental Crowns Facet Dental Dental prophylaxis</td>\n",
       "      <td>350</td>\n",
       "      <td>Hyderabad</td>\n",
       "    </tr>\n",
       "    <tr>\n",
       "      <th>14</th>\n",
       "      <td>MBBS, Diploma in Otorhinolaryngology (DLO), DN...</td>\n",
       "      <td>12</td>\n",
       "      <td>0</td>\n",
       "      <td>Kondli</td>\n",
       "      <td>ENT Specialist</td>\n",
       "      <td>Unknown</td>\n",
       "      <td>500</td>\n",
       "      <td>Delhi</td>\n",
       "    </tr>\n",
       "    <tr>\n",
       "      <th>15</th>\n",
       "      <td>MBBS, MD - General Medicine</td>\n",
       "      <td>10</td>\n",
       "      <td>0</td>\n",
       "      <td>Saroor Nagar</td>\n",
       "      <td>General Medicine</td>\n",
       "      <td>Unknown</td>\n",
       "      <td>200</td>\n",
       "      <td>Hyderabad</td>\n",
       "    </tr>\n",
       "    <tr>\n",
       "      <th>16</th>\n",
       "      <td>MBBS, Diploma in Otorhinolaryngology (DLO)</td>\n",
       "      <td>24</td>\n",
       "      <td>0</td>\n",
       "      <td>Tambaram West</td>\n",
       "      <td>ENT Specialist</td>\n",
       "      <td>Unknown</td>\n",
       "      <td>100</td>\n",
       "      <td>Chennai</td>\n",
       "    </tr>\n",
       "    <tr>\n",
       "      <th>17</th>\n",
       "      <td>MBBS, MF- Homeopathy</td>\n",
       "      <td>5</td>\n",
       "      <td>0</td>\n",
       "      <td>Purasawakkam</td>\n",
       "      <td>Homeopath</td>\n",
       "      <td>Unknown</td>\n",
       "      <td>300</td>\n",
       "      <td>Chennai</td>\n",
       "    </tr>\n",
       "    <tr>\n",
       "      <th>18</th>\n",
       "      <td>MBBS, MS - ENT</td>\n",
       "      <td>19</td>\n",
       "      <td>8</td>\n",
       "      <td>KPHB</td>\n",
       "      <td>ENT Specialist</td>\n",
       "      <td>79% 8 Feedback KPHB, Hyderabad</td>\n",
       "      <td>400</td>\n",
       "      <td>Hyderabad</td>\n",
       "    </tr>\n",
       "    <tr>\n",
       "      <th>19</th>\n",
       "      <td>MBBS</td>\n",
       "      <td>19</td>\n",
       "      <td>10</td>\n",
       "      <td>HSR Layout</td>\n",
       "      <td>General Medicine</td>\n",
       "      <td>100% 4 Feedback HSR Layout, Bangalore</td>\n",
       "      <td>150</td>\n",
       "      <td>Bangalore</td>\n",
       "    </tr>\n",
       "    <tr>\n",
       "      <th>20</th>\n",
       "      <td>MDS, DNB, BDS</td>\n",
       "      <td>21</td>\n",
       "      <td>10</td>\n",
       "      <td>Pollachi</td>\n",
       "      <td>Dentist</td>\n",
       "      <td>100% 7 Feedback Pollachi, Coimbatore</td>\n",
       "      <td>100</td>\n",
       "      <td>Coimbatore</td>\n",
       "    </tr>\n",
       "    <tr>\n",
       "      <th>21</th>\n",
       "      <td>MBBS, DNB - ENT</td>\n",
       "      <td>14</td>\n",
       "      <td>0</td>\n",
       "      <td>Vasundhra Enclave</td>\n",
       "      <td>ENT Specialist</td>\n",
       "      <td>Adenoid / Tonsil Surgery Rhinoplasty Laryngoscopy</td>\n",
       "      <td>500</td>\n",
       "      <td>Delhi</td>\n",
       "    </tr>\n",
       "    <tr>\n",
       "      <th>22</th>\n",
       "      <td>MBBS</td>\n",
       "      <td>41</td>\n",
       "      <td>0</td>\n",
       "      <td>Chembur</td>\n",
       "      <td>General Medicine</td>\n",
       "      <td>Unknown</td>\n",
       "      <td>200</td>\n",
       "      <td>Mumbai</td>\n",
       "    </tr>\n",
       "    <tr>\n",
       "      <th>23</th>\n",
       "      <td>MBBS, Fellowship of College of General Practic...</td>\n",
       "      <td>31</td>\n",
       "      <td>0</td>\n",
       "      <td>Thammanam</td>\n",
       "      <td>General Medicine</td>\n",
       "      <td>Unknown</td>\n",
       "      <td>100</td>\n",
       "      <td>Ernakulam</td>\n",
       "    </tr>\n",
       "    <tr>\n",
       "      <th>24</th>\n",
       "      <td>MBBS, DDVL</td>\n",
       "      <td>23</td>\n",
       "      <td>0</td>\n",
       "      <td>Andheri</td>\n",
       "      <td>Dermatologists</td>\n",
       "      <td>Unknown</td>\n",
       "      <td>100</td>\n",
       "      <td>Mumbai</td>\n",
       "    </tr>\n",
       "  </tbody>\n",
       "</table>\n",
       "</div>"
      ],
      "text/plain": [
       "                                        Qualification  Experience Rating  \\\n",
       "0                               BHMS, MD - Homeopathy          24     10   \n",
       "1                        BAMS, MD - Ayurveda Medicine          12     10   \n",
       "2                      MBBS, MS - Otorhinolaryngology           9      0   \n",
       "3                                 BSc - Zoology, BAMS          12      0   \n",
       "4                                                BAMS          20     10   \n",
       "5                                                BAMS           8      0   \n",
       "6                                                BHMS          42      0   \n",
       "7                                                 BDS          10     10   \n",
       "8                         MBBS, MD - General Medicine          14      0   \n",
       "9                                            BSc, BDS          23      0   \n",
       "10                                MBBS, MS, DNB - ENT           5      0   \n",
       "11                                               BAMS           7      0   \n",
       "12                                           BDS, MDS           9     10   \n",
       "13            BDS, MDS - Oral & Maxillofacial Surgery          21      0   \n",
       "14  MBBS, Diploma in Otorhinolaryngology (DLO), DN...          12      0   \n",
       "15                        MBBS, MD - General Medicine          10      0   \n",
       "16         MBBS, Diploma in Otorhinolaryngology (DLO)          24      0   \n",
       "17                               MBBS, MF- Homeopathy           5      0   \n",
       "18                                     MBBS, MS - ENT          19      8   \n",
       "19                                               MBBS          19     10   \n",
       "20                                      MDS, DNB, BDS          21     10   \n",
       "21                                    MBBS, DNB - ENT          14      0   \n",
       "22                                               MBBS          41      0   \n",
       "23  MBBS, Fellowship of College of General Practic...          31      0   \n",
       "24                                         MBBS, DDVL          23      0   \n",
       "\n",
       "                    Place           Profile  \\\n",
       "0                Kakkanad         Homeopath   \n",
       "1              Whitefield          Ayurveda   \n",
       "2         Mathikere - BEL    ENT Specialist   \n",
       "3       Bannerghatta Road          Ayurveda   \n",
       "4            Keelkattalai          Ayurveda   \n",
       "5                   Porur          Ayurveda   \n",
       "6              Karol Bagh         Homeopath   \n",
       "7                 Arekere           Dentist   \n",
       "8                Old City  General Medicine   \n",
       "9                  Athani           Dentist   \n",
       "10        Thousand Lights    ENT Specialist   \n",
       "11             Somajiguda          Ayurveda   \n",
       "12  Coimbatore Racecourse           Dentist   \n",
       "13          Jubilee Hills           Dentist   \n",
       "14                 Kondli    ENT Specialist   \n",
       "15           Saroor Nagar  General Medicine   \n",
       "16          Tambaram West    ENT Specialist   \n",
       "17           Purasawakkam         Homeopath   \n",
       "18                   KPHB    ENT Specialist   \n",
       "19             HSR Layout  General Medicine   \n",
       "20               Pollachi           Dentist   \n",
       "21      Vasundhra Enclave    ENT Specialist   \n",
       "22                Chembur  General Medicine   \n",
       "23              Thammanam  General Medicine   \n",
       "24                Andheri    Dermatologists   \n",
       "\n",
       "                                   Miscellaneous_Info Fees         City  \n",
       "0                100% 16 Feedback Kakkanad, Ernakulam  100    Ernakulam  \n",
       "1               98% 76 Feedback Whitefield, Bangalore  350    Bangalore  \n",
       "2                                             Unknown  300    Bangalore  \n",
       "3   Bannerghatta Road, Bangalore ₹250 Available on...  250    Bangalore  \n",
       "4               100% 4 Feedback Keelkattalai, Chennai  250      Chennai  \n",
       "5                                             Unknown  100      Chennai  \n",
       "6                                             Unknown  200        Delhi  \n",
       "7   Dental Fillings Crowns and Bridges Fixing Impa...  200    Bangalore  \n",
       "8                                             Unknown  100    Hyderabad  \n",
       "9                                             Unknown  100    Ernakulam  \n",
       "10                                            Unknown  700      Chennai  \n",
       "11                                            Unknown  100    Hyderabad  \n",
       "12  98% 14 Feedback Coimbatore Racecourse, Coimbatore  200   Coimbatore  \n",
       "13      Dental Crowns Facet Dental Dental prophylaxis  350    Hyderabad  \n",
       "14                                            Unknown  500        Delhi  \n",
       "15                                            Unknown  200    Hyderabad  \n",
       "16                                            Unknown  100      Chennai  \n",
       "17                                            Unknown  300      Chennai  \n",
       "18                     79% 8 Feedback KPHB, Hyderabad  400    Hyderabad  \n",
       "19              100% 4 Feedback HSR Layout, Bangalore  150    Bangalore  \n",
       "20               100% 7 Feedback Pollachi, Coimbatore  100   Coimbatore  \n",
       "21  Adenoid / Tonsil Surgery Rhinoplasty Laryngoscopy  500        Delhi  \n",
       "22                                            Unknown  200       Mumbai  \n",
       "23                                            Unknown  100    Ernakulam  \n",
       "24                                            Unknown  100       Mumbai  "
      ]
     },
     "execution_count": 21,
     "metadata": {},
     "output_type": "execute_result"
    }
   ],
   "source": [
    "DoctorDF.head(25)"
   ]
  },
  {
   "cell_type": "code",
   "execution_count": 22,
   "metadata": {},
   "outputs": [],
   "source": [
    "import re\n",
    "def clean_text(text):\n",
    "    text = str(text).lower()\n",
    "    text = re.sub(r'[^a-z]', ' ', text)\n",
    "    text = re.sub(r'\\s+', ' ', text)\n",
    "    return text\n",
    "\n",
    "DoctorDF['Qualification'] = DoctorDF['Qualification'].apply(clean_text)\n",
    "DoctorDF['Miscellaneous_Info'] = DoctorDF['Miscellaneous_Info'].apply(clean_text)"
   ]
  },
  {
   "cell_type": "code",
   "execution_count": 23,
   "metadata": {},
   "outputs": [
    {
     "data": {
      "text/plain": [
       "bds                                                                                                           632\n",
       "bhms                                                                                                          627\n",
       "bams                                                                                                          624\n",
       "mbbs                                                                                                          441\n",
       "mbbs ms ent                                                                                                   280\n",
       "                                                                                                             ... \n",
       "bds mds mds conservative dentistry endodontics                                                                  1\n",
       "bhms post graduate diploma in emergency services pgdems pg certificate course in diabetes education pgdce       1\n",
       "diploma in otorhinolaryngology dlo ms ent mbbs                                                                  1\n",
       "bams fellowship in gastroenterology                                                                             1\n",
       "mds orthodontics bds invisalign training course                                                                 1\n",
       "Name: Qualification, Length: 1801, dtype: int64"
      ]
     },
     "execution_count": 23,
     "metadata": {},
     "output_type": "execute_result"
    }
   ],
   "source": [
    "DoctorDF['Qualification'].value_counts()"
   ]
  },
  {
   "cell_type": "code",
   "execution_count": 24,
   "metadata": {},
   "outputs": [
    {
     "data": {
      "text/plain": [
       "unknown                                                               3454\n",
       "acrylic partial denture crowns and bridges fixing artificial teeth      50\n",
       " feedback dwarka delhi                                                  38\n",
       " feedback hsr layout bangalore                                          35\n",
       " feedback whitefield bangalore                                          26\n",
       "                                                                      ... \n",
       "artificial teeth scaling polishing teeth whitening                       1\n",
       "chickenpox treatment hair treatment neck pain treatment                  1\n",
       "fever treatment health checkup general electrocardiography ecg           1\n",
       "ceramic veneers crowns tooth extraction rct single sitting               1\n",
       "allergy treatment arthritis management bronchial asthma treatment        1\n",
       "Name: Miscellaneous_Info, Length: 2435, dtype: int64"
      ]
     },
     "execution_count": 24,
     "metadata": {},
     "output_type": "execute_result"
    }
   ],
   "source": [
    "DoctorDF['Miscellaneous_Info'].value_counts()"
   ]
  },
  {
   "cell_type": "code",
   "execution_count": 25,
   "metadata": {},
   "outputs": [
    {
     "data": {
      "text/plain": [
       "Andheri West          97\n",
       "HSR Layout            97\n",
       "Dwarka                94\n",
       "Banjara Hills         85\n",
       "Mulund West           81\n",
       "                      ..\n",
       "Neyyattinkara Town     1\n",
       "JP Nagar 9 Phase       1\n",
       "Bhogal                 1\n",
       "Durga Puri             1\n",
       "Dwarka Sector 4        1\n",
       "Name: Place, Length: 938, dtype: int64"
      ]
     },
     "execution_count": 25,
     "metadata": {},
     "output_type": "execute_result"
    }
   ],
   "source": [
    "DoctorDF['Place'].value_counts()"
   ]
  },
  {
   "cell_type": "code",
   "execution_count": 26,
   "metadata": {},
   "outputs": [
    {
     "data": {
      "text/plain": [
       " Bangalore             1678\n",
       " Mumbai                1608\n",
       " Delhi                 1602\n",
       " Hyderabad             1284\n",
       " Chennai               1142\n",
       " Coimbatore             298\n",
       " Ernakulam              201\n",
       " Thiruvananthapuram     103\n",
       "Unknown                  31\n",
       "e                         1\n",
       "Name: City, dtype: int64"
      ]
     },
     "execution_count": 26,
     "metadata": {},
     "output_type": "execute_result"
    }
   ],
   "source": [
    "DoctorDF['City'].value_counts()"
   ]
  },
  {
   "cell_type": "code",
   "execution_count": 27,
   "metadata": {},
   "outputs": [],
   "source": [
    "DoctorDF.drop([\"Qualification\",'Miscellaneous_Info'],axis=1,inplace=True)"
   ]
  },
  {
   "cell_type": "code",
   "execution_count": 28,
   "metadata": {},
   "outputs": [],
   "source": [
    "DoctorDF[\"Fees\"] = DoctorDF[\"Fees\"].astype(\"int\")"
   ]
  },
  {
   "cell_type": "code",
   "execution_count": 29,
   "metadata": {},
   "outputs": [
    {
     "data": {
      "image/png": "[encoded data removed]",
      "text/plain": [
       "<Figure size 432x288 with 1 Axes>"
      ]
     },
     "metadata": {
      "needs_background": "light"
     },
     "output_type": "display_data"
    }
   ],
   "source": [
    "sns.distplot(DoctorDF[\"Fees\"])\n",
    "plt.xlabel(\"Fees\")\n",
    "plt.title(\"Distribution of Fees\")\n",
    "plt.show()"
   ]
  },
  {
   "cell_type": "code",
   "execution_count": 30,
   "metadata": {},
   "outputs": [
    {
     "data": {
      "text/plain": [
       "<seaborn.axisgrid.FacetGrid at 0x63b5ae7dc8>"
      ]
     },
     "execution_count": 30,
     "metadata": {},
     "output_type": "execute_result"
    },
    {
     "data": {
      "image/png": "[encoded data removed]",
      "text/plain": [
       "<Figure size 1080x360 with 1 Axes>"
      ]
     },
     "metadata": {
      "needs_background": "light"
     },
     "output_type": "display_data"
    }
   ],
   "source": [
    "sns.factorplot(x = 'Experience', y='Fees', kind = 'bar', data=DoctorDF,aspect = 3)"
   ]
  },
  {
   "cell_type": "code",
   "execution_count": 31,
   "metadata": {},
   "outputs": [
    {
     "data": {
      "text/plain": [
       "<seaborn.axisgrid.FacetGrid at 0x63b5b0cd08>"
      ]
     },
     "execution_count": 31,
     "metadata": {},
     "output_type": "execute_result"
    },
    {
     "data": {
      "image/png": "[encoded data removed]",
      "text/plain": [
       "<Figure size 1080x360 with 1 Axes>"
      ]
     },
     "metadata": {
      "needs_background": "light"
     },
     "output_type": "display_data"
    }
   ],
   "source": [
    "sns.factorplot(x = 'Rating', y='Fees', kind = 'bar', data=DoctorDF,aspect = 3)"
   ]
  },
  {
   "cell_type": "code",
   "execution_count": 32,
   "metadata": {},
   "outputs": [
    {
     "data": {
      "text/html": [
       "<div>\n",
       "<style scoped>\n",
       "    .dataframe tbody tr th:only-of-type {\n",
       "        vertical-align: middle;\n",
       "    }\n",
       "\n",
       "    .dataframe tbody tr th {\n",
       "        vertical-align: top;\n",
       "    }\n",
       "\n",
       "    .dataframe thead th {\n",
       "        text-align: right;\n",
       "    }\n",
       "</style>\n",
       "<table border=\"1\" class=\"dataframe\">\n",
       "  <thead>\n",
       "    <tr style=\"text-align: right;\">\n",
       "      <th></th>\n",
       "      <th>Experience</th>\n",
       "      <th>Rating</th>\n",
       "      <th>Place</th>\n",
       "      <th>Profile</th>\n",
       "      <th>Fees</th>\n",
       "      <th>City</th>\n",
       "    </tr>\n",
       "  </thead>\n",
       "  <tbody>\n",
       "    <tr>\n",
       "      <th>0</th>\n",
       "      <td>24</td>\n",
       "      <td>10</td>\n",
       "      <td>Kakkanad</td>\n",
       "      <td>Homeopath</td>\n",
       "      <td>100</td>\n",
       "      <td>Ernakulam</td>\n",
       "    </tr>\n",
       "    <tr>\n",
       "      <th>1</th>\n",
       "      <td>12</td>\n",
       "      <td>10</td>\n",
       "      <td>Whitefield</td>\n",
       "      <td>Ayurveda</td>\n",
       "      <td>350</td>\n",
       "      <td>Bangalore</td>\n",
       "    </tr>\n",
       "    <tr>\n",
       "      <th>2</th>\n",
       "      <td>9</td>\n",
       "      <td>0</td>\n",
       "      <td>Mathikere - BEL</td>\n",
       "      <td>ENT Specialist</td>\n",
       "      <td>300</td>\n",
       "      <td>Bangalore</td>\n",
       "    </tr>\n",
       "    <tr>\n",
       "      <th>3</th>\n",
       "      <td>12</td>\n",
       "      <td>0</td>\n",
       "      <td>Bannerghatta Road</td>\n",
       "      <td>Ayurveda</td>\n",
       "      <td>250</td>\n",
       "      <td>Bangalore</td>\n",
       "    </tr>\n",
       "    <tr>\n",
       "      <th>4</th>\n",
       "      <td>20</td>\n",
       "      <td>10</td>\n",
       "      <td>Keelkattalai</td>\n",
       "      <td>Ayurveda</td>\n",
       "      <td>250</td>\n",
       "      <td>Chennai</td>\n",
       "    </tr>\n",
       "  </tbody>\n",
       "</table>\n",
       "</div>"
      ],
      "text/plain": [
       "   Experience Rating              Place         Profile  Fees        City\n",
       "0          24     10           Kakkanad       Homeopath   100   Ernakulam\n",
       "1          12     10         Whitefield        Ayurveda   350   Bangalore\n",
       "2           9      0    Mathikere - BEL  ENT Specialist   300   Bangalore\n",
       "3          12      0  Bannerghatta Road        Ayurveda   250   Bangalore\n",
       "4          20     10       Keelkattalai        Ayurveda   250     Chennai"
      ]
     },
     "execution_count": 32,
     "metadata": {},
     "output_type": "execute_result"
    }
   ],
   "source": [
    "DoctorDF.head()"
   ]
  },
  {
   "cell_type": "code",
   "execution_count": 33,
   "metadata": {},
   "outputs": [],
   "source": [
    "from sklearn.preprocessing import LabelEncoder\n",
    "Lb=LabelEncoder()\n",
    "DoctorDF['Place']=Lb.fit_transform(DoctorDF['Place'])\n",
    "DoctorDF['City']=Lb.fit_transform(DoctorDF['City'])\n",
    "DoctorDF['Profile']=Lb.fit_transform(DoctorDF['Profile'])"
   ]
  },
  {
   "cell_type": "code",
   "execution_count": null,
   "metadata": {},
   "outputs": [],
   "source": []
  },
  {
   "cell_type": "code",
   "execution_count": 34,
   "metadata": {},
   "outputs": [],
   "source": [
    "train_set=DoctorDF[0:5961]\n",
    "test_set=DoctorDF[5961:]\n",
    "test_set=test_set.drop(['Fees'],axis=1)"
   ]
  },
  {
   "cell_type": "code",
   "execution_count": 35,
   "metadata": {},
   "outputs": [
    {
     "data": {
      "text/plain": [
       "((5961, 6), (1987, 5))"
      ]
     },
     "execution_count": 35,
     "metadata": {},
     "output_type": "execute_result"
    }
   ],
   "source": [
    "train_set.shape,test_set.shape"
   ]
  },
  {
   "cell_type": "code",
   "execution_count": 36,
   "metadata": {},
   "outputs": [
    {
     "data": {
      "text/html": [
       "<div>\n",
       "<style scoped>\n",
       "    .dataframe tbody tr th:only-of-type {\n",
       "        vertical-align: middle;\n",
       "    }\n",
       "\n",
       "    .dataframe tbody tr th {\n",
       "        vertical-align: top;\n",
       "    }\n",
       "\n",
       "    .dataframe thead th {\n",
       "        text-align: right;\n",
       "    }\n",
       "</style>\n",
       "<table border=\"1\" class=\"dataframe\">\n",
       "  <thead>\n",
       "    <tr style=\"text-align: right;\">\n",
       "      <th></th>\n",
       "      <th>Experience</th>\n",
       "      <th>Rating</th>\n",
       "      <th>Place</th>\n",
       "      <th>Profile</th>\n",
       "      <th>Fees</th>\n",
       "      <th>City</th>\n",
       "    </tr>\n",
       "  </thead>\n",
       "  <tbody>\n",
       "    <tr>\n",
       "      <th>0</th>\n",
       "      <td>24</td>\n",
       "      <td>10</td>\n",
       "      <td>324</td>\n",
       "      <td>5</td>\n",
       "      <td>100</td>\n",
       "      <td>4</td>\n",
       "    </tr>\n",
       "    <tr>\n",
       "      <th>1</th>\n",
       "      <td>12</td>\n",
       "      <td>10</td>\n",
       "      <td>926</td>\n",
       "      <td>0</td>\n",
       "      <td>350</td>\n",
       "      <td>0</td>\n",
       "    </tr>\n",
       "    <tr>\n",
       "      <th>2</th>\n",
       "      <td>9</td>\n",
       "      <td>0</td>\n",
       "      <td>494</td>\n",
       "      <td>3</td>\n",
       "      <td>300</td>\n",
       "      <td>0</td>\n",
       "    </tr>\n",
       "    <tr>\n",
       "      <th>3</th>\n",
       "      <td>12</td>\n",
       "      <td>0</td>\n",
       "      <td>74</td>\n",
       "      <td>0</td>\n",
       "      <td>250</td>\n",
       "      <td>0</td>\n",
       "    </tr>\n",
       "    <tr>\n",
       "      <th>4</th>\n",
       "      <td>20</td>\n",
       "      <td>10</td>\n",
       "      <td>367</td>\n",
       "      <td>0</td>\n",
       "      <td>250</td>\n",
       "      <td>1</td>\n",
       "    </tr>\n",
       "  </tbody>\n",
       "</table>\n",
       "</div>"
      ],
      "text/plain": [
       "   Experience Rating  Place  Profile  Fees  City\n",
       "0          24     10    324        5   100     4\n",
       "1          12     10    926        0   350     0\n",
       "2           9      0    494        3   300     0\n",
       "3          12      0     74        0   250     0\n",
       "4          20     10    367        0   250     1"
      ]
     },
     "execution_count": 36,
     "metadata": {},
     "output_type": "execute_result"
    }
   ],
   "source": [
    "train_set.head()"
   ]
  },
  {
   "cell_type": "code",
   "execution_count": 37,
   "metadata": {},
   "outputs": [],
   "source": [
    "#separating input and output variable\n",
    "df_x=train_set.drop(['Fees'],axis=1)\n",
    "y=train_set.Fees\n",
    "#scaling the input variable\n",
    "from sklearn.preprocessing import StandardScaler\n",
    "sc=StandardScaler()\n",
    "x=sc.fit_transform(df_x)\n",
    "x=pd.DataFrame(x,columns=df_x.columns)\n",
    "#x.head()"
   ]
  },
  {
   "cell_type": "code",
   "execution_count": 38,
   "metadata": {},
   "outputs": [],
   "source": [
    "from sklearn.model_selection import train_test_split\n",
    "from sklearn.metrics import mean_absolute_error\n",
    "from sklearn.metrics import mean_squared_error\n",
    "from sklearn.metrics import r2_score\n",
    "def maxr2_score(regr,x,y):\n",
    "    max_r_score=0\n",
    "    for r_state in range(42,101):\n",
    "        x_train,x_val,y_train,y_val=train_test_split(x,y,random_state=r_state,test_size=0.20)\n",
    "        regr.fit(x_train,y_train)\n",
    "        y_pred=regr.predict(x_val)\n",
    "        r2_scr=r2_score(y_val,y_pred)\n",
    "        #print('r2_score corresponding to random state: ',r_state,\"is:\",r2_scr)\n",
    "        if r2_scr>max_r_score:\n",
    "            max_r_score=r2_scr\n",
    "            final_r_state=r_state\n",
    "    print('\\n\\nmax r2 score corresponding to random state:',final_r_state,\"is\",max_r_score)\n",
    "    return final_r_state"
   ]
  },
  {
   "cell_type": "code",
   "execution_count": 39,
   "metadata": {},
   "outputs": [
    {
     "name": "stdout",
     "output_type": "stream",
     "text": [
      "\n",
      "\n",
      "max r2 score corresponding to random state: 68 is 0.07717769501687832\n"
     ]
    }
   ],
   "source": [
    "#lets use linear regression and check max  r2 score corresponding to different random states\n",
    "from sklearn.linear_model import LinearRegression\n",
    "lreg=LinearRegression()\n",
    "r_state=maxr2_score(lreg,x,y)"
   ]
  },
  {
   "cell_type": "code",
   "execution_count": 40,
   "metadata": {},
   "outputs": [
    {
     "data": {
      "text/plain": [
       "{'n_neighbors': 26}"
      ]
     },
     "execution_count": 40,
     "metadata": {},
     "output_type": "execute_result"
    }
   ],
   "source": [
    "#lets use grid_search to find optimal value of n_neigbors for KNN model\n",
    "from sklearn.model_selection import GridSearchCV\n",
    "from sklearn.neighbors import KNeighborsRegressor\n",
    "neighbors={'n_neighbors':range(1,30)}\n",
    "knr=KNeighborsRegressor()\n",
    "gknr=GridSearchCV(knr,neighbors,cv=10)\n",
    "gknr.fit(x,y)\n",
    "gknr.best_params_"
   ]
  },
  {
   "cell_type": "code",
   "execution_count": 41,
   "metadata": {},
   "outputs": [
    {
     "name": "stdout",
     "output_type": "stream",
     "text": [
      "\n",
      "\n",
      "max r2 score corresponding to random state: 63 is 0.1845142900404012\n"
     ]
    }
   ],
   "source": [
    "#lets use KNN Regression and check max r2 score corresponding to different random states\n",
    "knr=KNeighborsRegressor(n_neighbors=26)\n",
    "r_state=maxr2_score(knr,x,y)"
   ]
  },
  {
   "cell_type": "code",
   "execution_count": 42,
   "metadata": {},
   "outputs": [
    {
     "name": "stdout",
     "output_type": "stream",
     "text": [
      "Mean r2 score for linear regression :  0.05301979766729801\n",
      "Standard deviation in r2 score for Linear Regression :  0.010270386042940149\n",
      "\n",
      "\n",
      " Mean r2 score for KNN Regression :  0.14385167576863966\n",
      "Standard deviation in r2 score for KNN Regression :  0.011410829189772771\n"
     ]
    }
   ],
   "source": [
    "#lets check the mean r2 score of both linear regression model and knn regression\n",
    "from sklearn.model_selection import cross_val_score\n",
    "print('Mean r2 score for linear regression : ',cross_val_score(lreg,x,y,cv=5,scoring='r2').mean())\n",
    "print('Standard deviation in r2 score for Linear Regression : ',cross_val_score(lreg,x,y,cv=5,scoring='r2').std())\n",
    "print('\\n\\n Mean r2 score for KNN Regression : ',cross_val_score(knr,x,y,cv=5,scoring='r2').mean())\n",
    "print('Standard deviation in r2 score for KNN Regression : ',cross_val_score(knr,x,y,cv=5,scoring='r2').std())"
   ]
  },
  {
   "cell_type": "code",
   "execution_count": 43,
   "metadata": {},
   "outputs": [
    {
     "data": {
      "text/plain": [
       "{'alpha': 0.01}"
      ]
     },
     "execution_count": 43,
     "metadata": {},
     "output_type": "execute_result"
    }
   ],
   "source": [
    "#lets check Lasso regression and find best value of alpha\n",
    "from sklearn.linear_model import Lasso\n",
    "lsreg=Lasso()\n",
    "parameters={'alpha':[0.001,0.01,0.1,1]}\n",
    "clf=GridSearchCV(lsreg,parameters,cv=10)\n",
    "clf.fit(x,y)\n",
    "clf.best_params_"
   ]
  },
  {
   "cell_type": "code",
   "execution_count": 44,
   "metadata": {},
   "outputs": [
    {
     "name": "stdout",
     "output_type": "stream",
     "text": [
      "\n",
      "\n",
      "max r2 score corresponding to random state: 68 is 0.07717642001358604\n"
     ]
    }
   ],
   "source": [
    "#lets check max r2 score when we use lasso\n",
    "lsreg=Lasso(alpha=0.001)\n",
    "r_state=maxr2_score(lsreg,x,y)"
   ]
  },
  {
   "cell_type": "code",
   "execution_count": 45,
   "metadata": {},
   "outputs": [
    {
     "name": "stdout",
     "output_type": "stream",
     "text": [
      "Mean r2 score for lasso regression :  0.05301982386972377\n",
      "standard deviation for lasso ragression :  0.010269636605196837\n"
     ]
    }
   ],
   "source": [
    "#lets use cross val score with lasso\n",
    "print(\"Mean r2 score for lasso regression : \",cross_val_score(lsreg,x,y,cv=5,scoring='r2').mean())\n",
    "print('standard deviation for lasso ragression : ',cross_val_score(lsreg,x,y,scoring='r2').std())"
   ]
  },
  {
   "cell_type": "code",
   "execution_count": 46,
   "metadata": {},
   "outputs": [
    {
     "data": {
      "text/plain": [
       "{'learning_rate': 0.1, 'n_estimators': 500}"
      ]
     },
     "execution_count": 46,
     "metadata": {},
     "output_type": "execute_result"
    }
   ],
   "source": [
    "#now we will try to use gradient boosting technique\n",
    "#for getting best set of parameter we will use grid search\n",
    "from sklearn.ensemble import GradientBoostingRegressor\n",
    "import warnings\n",
    "warnings.filterwarnings('ignore')\n",
    "gbr=GradientBoostingRegressor()\n",
    "parameters={'learning_rate':[0.001,0.01,0.1,1],'n_estimators':[10,100,500,1000]}\n",
    "clf=GridSearchCV(gbr,parameters,cv=5)\n",
    "clf.fit(x,y)\n",
    "clf.best_params_"
   ]
  },
  {
   "cell_type": "code",
   "execution_count": 47,
   "metadata": {},
   "outputs": [
    {
     "name": "stdout",
     "output_type": "stream",
     "text": [
      "Mean r2 score for gradient boosting Regrssion :  0.23906544927031917\n",
      "Standard Deviation r2 score for gradient boosting Regrssion :  0.026178723527860544\n"
     ]
    }
   ],
   "source": [
    "#now we will use cross val score to check the mean r2 score and standard deviation\n",
    "gbr=GradientBoostingRegressor(learning_rate=0.1,n_estimators=500)\n",
    "print('Mean r2 score for gradient boosting Regrssion : ',cross_val_score(gbr,x,y,cv=5,scoring='r2').mean())\n",
    "print('Standard Deviation r2 score for gradient boosting Regrssion : ',cross_val_score(gbr,x,y,cv=5,scoring='r2').std())"
   ]
  },
  {
   "cell_type": "code",
   "execution_count": 48,
   "metadata": {},
   "outputs": [
    {
     "data": {
      "text/plain": [
       "{'base_estimator': DecisionTreeRegressor(ccp_alpha=0.0, criterion='mse', max_depth=None,\n",
       "                       max_features=None, max_leaf_nodes=None,\n",
       "                       min_impurity_decrease=0.0, min_impurity_split=None,\n",
       "                       min_samples_leaf=1, min_samples_split=2,\n",
       "                       min_weight_fraction_leaf=0.0, presort='deprecated',\n",
       "                       random_state=None, splitter='best'),\n",
       " 'learning_rate': 1,\n",
       " 'n_estimators': 500}"
      ]
     },
     "execution_count": 48,
     "metadata": {},
     "output_type": "execute_result"
    }
   ],
   "source": [
    "#Now Lets use ada boost regression algorithm\n",
    "from sklearn.ensemble import AdaBoostRegressor\n",
    "from sklearn.tree import DecisionTreeRegressor\n",
    "ada_reg=AdaBoostRegressor()\n",
    "parameters={'learning_rate':[0.001,0.01,0.1,1],'n_estimators':[10,100,500,1000],'base_estimator':[lreg,lsreg,DecisionTreeRegressor()]}\n",
    "clf=GridSearchCV(ada_reg,parameters,cv=5)\n",
    "clf.fit(x,y)\n",
    "clf.best_params_"
   ]
  },
  {
   "cell_type": "code",
   "execution_count": 49,
   "metadata": {},
   "outputs": [
    {
     "name": "stdout",
     "output_type": "stream",
     "text": [
      "Mean r2 score for ada boosting regression : 0.09769021686576558\n",
      "Standard Deviation r2 score for ada boosting regression : 0.040611235021238444\n"
     ]
    }
   ],
   "source": [
    "ada_reg=AdaBoostRegressor(base_estimator=DecisionTreeRegressor(),learning_rate=1,n_estimators=500)\n",
    "print('Mean r2 score for ada boosting regression :',cross_val_score(ada_reg,x,y,cv=5,scoring='r2').mean())\n",
    "print('Standard Deviation r2 score for ada boosting regression :',cross_val_score(ada_reg,x,y,cv=5,scoring='r2').std())"
   ]
  },
  {
   "cell_type": "code",
   "execution_count": 50,
   "metadata": {},
   "outputs": [
    {
     "name": "stdout",
     "output_type": "stream",
     "text": [
      "\n",
      "\n",
      "max r2 score corresponding to random state: 99 is 0.17223824799826049\n"
     ]
    }
   ],
   "source": [
    "#lets check maximum r2_score corresponding to this\n",
    "r_state=maxr2_score(ada_reg,x,y)"
   ]
  },
  {
   "cell_type": "code",
   "execution_count": 51,
   "metadata": {},
   "outputs": [],
   "source": [
    "# we tried all the model and till now linear regression is the best\n",
    "#random state corresponding to highest r2_score is 68\n",
    "x_train,x_test,y_train,y_test=train_test_split(x,y,random_state=68,test_size=0.20)\n",
    "lreg=LinearRegression()        \n",
    "lreg.fit(x_train,y_train)\n",
    "y_pred=lreg.predict(x_test)"
   ]
  },
  {
   "cell_type": "code",
   "execution_count": 52,
   "metadata": {},
   "outputs": [
    {
     "name": "stdout",
     "output_type": "stream",
     "text": [
      "RMSE is :  184.9538837251381\n",
      "r2_score is :  0.07717769501687832\n"
     ]
    }
   ],
   "source": [
    "#lets find the rmse and r2_score using sklearn.metrics\n",
    "import numpy as np\n",
    "from sklearn.metrics import r2_score\n",
    "from sklearn.metrics import mean_squared_error\n",
    "print(\"RMSE is : \",np.sqrt(mean_squared_error(y_test,y_pred)))\n",
    "print('r2_score is : ',r2_score(y_test,y_pred))"
   ]
  },
  {
   "cell_type": "code",
   "execution_count": 53,
   "metadata": {},
   "outputs": [
    {
     "data": {
      "text/plain": [
       "['fees_model.pkl']"
      ]
     },
     "execution_count": 53,
     "metadata": {},
     "output_type": "execute_result"
    }
   ],
   "source": [
    "from sklearn.externals import joblib\n",
    "joblib.dump(lreg,'fees_model.pkl')"
   ]
  },
  {
   "cell_type": "code",
   "execution_count": 54,
   "metadata": {},
   "outputs": [],
   "source": [
    "model=joblib.load('fees_model.pkl')"
   ]
  },
  {
   "cell_type": "code",
   "execution_count": 56,
   "metadata": {},
   "outputs": [],
   "source": [
    "result=pd.DataFrame(model.predict(test_set))"
   ]
  },
  {
   "cell_type": "code",
   "execution_count": 57,
   "metadata": {},
   "outputs": [],
   "source": [
    "result.to_csv('DoctorFeesprdictresults.csv')"
   ]
  },
  {
   "cell_type": "code",
   "execution_count": null,
   "metadata": {},
   "outputs": [],
   "source": []
  }
 ],
 "metadata": {
  "kernelspec": {
   "display_name": "Python 3",
   "language": "python",
   "name": "python3"
  },
  "language_info": {
   "codemirror_mode": {
    "name": "ipython",
    "version": 3
   },
   "file_extension": ".py",
   "mimetype": "text/x-python",
   "name": "python",
   "nbconvert_exporter": "python",
   "pygments_lexer": "ipython3",
   "version": "3.7.6"
  }
 },
 "nbformat": 4,
 "nbformat_minor": 4
}
